{
 "cells": [
  {
   "cell_type": "code",
   "execution_count": 1,
   "id": "3966f24a-9098-4f8e-b1d8-400bc9a89b58",
   "metadata": {
    "tags": []
   },
   "outputs": [],
   "source": [
    "# #Install the required packages:\n",
    "\n",
    "# ! pip install tensorflow\n",
    "# ! pip install transformers"
   ]
  },
  {
   "cell_type": "code",
   "execution_count": 2,
   "id": "aa9a1be3-02fe-4385-905d-be2340ccb357",
   "metadata": {
    "tags": []
   },
   "outputs": [],
   "source": [
    "import sys\n",
    "sys.path.append(\"./ReqSeek/\")\n",
    "\n",
    "import tensorflow as tf\n",
    "from ReqSeek import mapper\n",
    "from transformers import AutoTokenizer\n",
    "from transformers import TFAutoModelForSequenceClassification"
   ]
  },
  {
   "cell_type": "code",
   "execution_count": 3,
   "id": "f6912c06-0332-4ee5-9606-83552a629305",
   "metadata": {
    "tags": []
   },
   "outputs": [
    {
     "name": "stdout",
     "output_type": "stream",
     "text": [
      "Metal device set to: Apple M4 Pro\n"
     ]
    },
    {
     "name": "stderr",
     "output_type": "stream",
     "text": [
      "2025-05-29 01:28:43.534984: I tensorflow/core/common_runtime/pluggable_device/pluggable_device_factory.cc:305] Could not identify NUMA node of platform GPU ID 0, defaulting to 0. Your kernel may not have been built with NUMA support.\n",
      "2025-05-29 01:28:43.535103: I tensorflow/core/common_runtime/pluggable_device/pluggable_device_factory.cc:271] Created TensorFlow device (/job:localhost/replica:0/task:0/device:GPU:0 with 0 MB memory) -> physical PluggableDevice (device: 0, name: METAL, pci bus id: <undefined>)\n",
      "All model checkpoint layers were used when initializing TFRobertaForSequenceClassification.\n",
      "\n",
      "All the layers of TFRobertaForSequenceClassification were initialized from the model checkpoint at ./ReqSeek/.\n",
      "If your task is similar to the task the model of the checkpoint was trained on, you can already use TFRobertaForSequenceClassification for predictions without further training.\n"
     ]
    }
   ],
   "source": [
    "# Load tokenizer and model\n",
    "\n",
    "model_name = './ReqSeek/'\n",
    "tokenizer = AutoTokenizer.from_pretrained(model_name)\n",
    "model = TFAutoModelForSequenceClassification.from_pretrained(model_name)"
   ]
  },
  {
   "cell_type": "code",
   "execution_count": 4,
   "id": "9be7c97a-d686-491f-bbe3-7e2792bc8c87",
   "metadata": {
    "tags": []
   },
   "outputs": [],
   "source": [
    "# Write your requirement\n",
    "req = \"The system shall save all user data while system restart.\""
   ]
  },
  {
   "cell_type": "code",
   "execution_count": 5,
   "id": "7b32def3-a0fe-4be1-b985-2dc7d5c35e71",
   "metadata": {
    "tags": []
   },
   "outputs": [],
   "source": [
    "# Tokenize input\n",
    "\n",
    "inputs = tokenizer(req, return_tensors=\"tf\", truncation = True, padding = True)"
   ]
  },
  {
   "cell_type": "code",
   "execution_count": 6,
   "id": "0e012d65-babf-41fa-9500-d5a6601d45c1",
   "metadata": {
    "tags": []
   },
   "outputs": [],
   "source": [
    "# Run inference\n",
    "\n",
    "outputs = model(**inputs)\n",
    "logits = outputs.logits"
   ]
  },
  {
   "cell_type": "code",
   "execution_count": 7,
   "id": "95de23e8-359d-4132-9287-e98eb4aec74a",
   "metadata": {
    "tags": []
   },
   "outputs": [],
   "source": [
    "# Extracting and decoding model prediction\n",
    "\n",
    "predicted_class = tf.argmax(logits, axis = 1).numpy()[0]"
   ]
  },
  {
   "cell_type": "code",
   "execution_count": 8,
   "id": "f621f17f-a09c-4ff8-8684-cad1d272442c",
   "metadata": {
    "tags": []
   },
   "outputs": [
    {
     "name": "stdout",
     "output_type": "stream",
     "text": [
      "Predicted class: requirement\n"
     ]
    }
   ],
   "source": [
    "print(f\"Predicted class: {mapper.map_hf(model.config.id2label[predicted_class])}\")"
   ]
  }
 ],
 "metadata": {
  "kernelspec": {
   "display_name": "metal-engine",
   "language": "python",
   "name": "metal-engine"
  },
  "language_info": {
   "codemirror_mode": {
    "name": "ipython",
    "version": 3
   },
   "file_extension": ".py",
   "mimetype": "text/x-python",
   "name": "python",
   "nbconvert_exporter": "python",
   "pygments_lexer": "ipython3",
   "version": "3.9.16"
  }
 },
 "nbformat": 4,
 "nbformat_minor": 5
}

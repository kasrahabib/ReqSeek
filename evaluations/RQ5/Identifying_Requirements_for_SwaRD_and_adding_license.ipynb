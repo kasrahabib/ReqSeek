{
 "cells": [
  {
   "cell_type": "code",
   "execution_count": 1,
   "id": "d6220c43-f6ee-40d4-9971-bd4de61f8708",
   "metadata": {
    "tags": []
   },
   "outputs": [],
   "source": [
    "# common imports\n",
    "\n",
    "import sys\n",
    "sys.path.append(\"../datasets/ARID_supporting_scripts\")\n",
    "\n",
    "import mapper\n",
    "import datasets\n",
    "import numpy as np\n",
    "import pandas as pd\n",
    "import license_attribution\n",
    "\n",
    "import os\n",
    "import csv\n",
    "import json\n",
    "\n",
    "\n",
    "import re\n",
    "from tqdm import tqdm\n",
    "\n",
    "np.random.seed(42)"
   ]
  },
  {
   "cell_type": "markdown",
   "id": "b07ad29b-9f8c-4595-bcef-3a244d11f0d3",
   "metadata": {},
   "source": [
    "# Custom Util SRS Preprocessor"
   ]
  },
  {
   "cell_type": "code",
   "execution_count": 2,
   "id": "bfe18d82-8d08-4698-bedf-53b1f2c4532c",
   "metadata": {
    "tags": []
   },
   "outputs": [],
   "source": [
    "import re\n",
    "from html import unescape\n",
    "from sklearn.base import BaseEstimator, TransformerMixin\n",
    "\n",
    "class SRSTextPreprocessor(BaseEstimator, TransformerMixin):\n",
    "    def __init__(self, strip_html = True, parse_to_sent = True, strip_parsed_tabels = True, filter_by_length = None):\n",
    "        self.strip_html = strip_html\n",
    "        self.parse_to_sent = parse_to_sent\n",
    "        self.strip_parsed_tabels = strip_parsed_tabels\n",
    "        self.filter_by_length = filter_by_length\n",
    "\n",
    "    def html_to_plain_text(self, text):\n",
    "        text = re.sub('<head.*?>.*?</head>', '', str(text), flags=re.M | re.S | re.I)\n",
    "        text = re.sub('<a\\s.*?>', '', text, flags=re.M | re.S | re.I)\n",
    "        text = re.sub('<.*?>', '', text, flags=re.M | re.S)\n",
    "        text = re.sub(r'(\\s*\\n)+', '\\n', text, flags=re.M | re.S)\n",
    "        return unescape(text)\n",
    "\n",
    "    def remove_table_structures(self, text):\n",
    "        text = re.sub(r'^\\|?[-|: ]+\\|?$', '', text, flags=re.MULTILINE)\n",
    "        text = re.sub(r'^\\|', '', text, flags=re.MULTILINE)  \n",
    "        text = re.sub(r'\\|$', '', text, flags=re.MULTILINE)  \n",
    "        text = re.sub(r'\\|', '    ', text) \n",
    "        text = re.sub(r' {2,}', ' ', text)\n",
    "        return text\n",
    "        \n",
    "    def parse_to_sent_level(self, text):\n",
    "        # text = re.findall(r'[a-zA-Z].*?[.!?]', text)\n",
    "        text = re.findall(r'\\b[A-Z].*?[.!?]', text)\n",
    "        sentences = [\"\".join(re.sub(r'^[^:]*: *(?:[^:]*: *)?', '', sent, flags = re.MULTILINE)) for sent in text]\n",
    "        if self.filter_by_length:\n",
    "            sentences = [sent for sent in sentences if len(sent.split(' ')) > self.filter_by_length]\n",
    "            return sentences \n",
    "        return sentences\n",
    "        \n",
    "    def fit(self, X, y = None):\n",
    "        return self\n",
    "\n",
    "    def transform(self, X, y = None):\n",
    "        text = X\n",
    "        if self.strip_html:\n",
    "            text = self.html_to_plain_text(text)\n",
    "        if self.remove_table_structures:\n",
    "            text = self.remove_table_structures(text)\n",
    "        if self.parse_to_sent:\n",
    "            text = self.parse_to_sent_level(text)\n",
    "        return text"
   ]
  },
  {
   "cell_type": "markdown",
   "id": "97c0b3fc-58f7-44ed-a53f-b2b0cc7eb799",
   "metadata": {
    "tags": []
   },
   "source": [
    "# Loading SWARD"
   ]
  },
  {
   "cell_type": "code",
   "execution_count": 3,
   "id": "ce615b5d-83da-4e44-bd84-c1212f89d2b2",
   "metadata": {
    "tags": []
   },
   "outputs": [],
   "source": [
    "uocssr_df = pd.read_excel('../datasets/ARID_supporting_scripts/6_requirement_identification/UOCSSR_Dataset_recent.xlsx')\n",
    "uocssr_df['REQID'] = np.arange(len(uocssr_df))\n",
    "uocssr_df.drop_duplicates(subset = ['Requirement (EN)'], inplace = True)\n",
    "uocssr_df.drop(columns = ['Unnamed: 0', 'Sub Category (NoRBERT)', 'Category (NoRBERT)'], inplace = True)\n",
    "uocssr_df.reset_index(drop = True, inplace = True)"
   ]
  },
  {
   "cell_type": "markdown",
   "id": "22af0951-9d87-44e1-9de5-41557158d591",
   "metadata": {},
   "source": [
    "# Spliting to sentence level"
   ]
  },
  {
   "cell_type": "code",
   "execution_count": 4,
   "id": "6cbfe923-783d-4ae9-a86b-e803c746defa",
   "metadata": {
    "tags": []
   },
   "outputs": [],
   "source": [
    "srs_text_preprocessor = SRSTextPreprocessor(filter_by_length = 8)\n",
    "uocssr_df['Requirement Sentences'] = uocssr_df['Requirement (EN)'].map(lambda text: srs_text_preprocessor.fit_transform(text))\n",
    "uocssr_df = uocssr_df.explode('Requirement Sentences')\n",
    "uocssr_df = uocssr_df[uocssr_df['Requirement Sentences'].apply(lambda x: x != [])]\n",
    "uocssr_df = uocssr_df[uocssr_df['Requirement Sentences'].apply(lambda x: x != [] and pd.notna(x))]\n",
    "uocssr_df['REQID_expanded'] = range(len(uocssr_df))"
   ]
  },
  {
   "cell_type": "markdown",
   "id": "0e4354a6-df32-4313-a0d3-357c33a01981",
   "metadata": {},
   "source": [
    "# Creating SwaRD"
   ]
  },
  {
   "cell_type": "code",
   "execution_count": 5,
   "id": "71ba802d-0fc6-4174-824f-a45d0153dfb9",
   "metadata": {
    "tags": []
   },
   "outputs": [],
   "source": [
    "uocssr_hf = datasets.Dataset.from_pandas(uocssr_df.astype(str))"
   ]
  },
  {
   "cell_type": "markdown",
   "id": "ca1982cf-debe-481f-887d-66d1fb5ecb97",
   "metadata": {},
   "source": [
    "# Automatic Requirments Identification (ARI) with ReqSeek"
   ]
  },
  {
   "cell_type": "code",
   "execution_count": 6,
   "id": "4141826f-7f99-4ec2-8619-c4222ecc08dc",
   "metadata": {
    "tags": []
   },
   "outputs": [
    {
     "name": "stdout",
     "output_type": "stream",
     "text": [
      "WARNING:tensorflow:Some requested devices in `tf.distribute.Strategy` are not visible to TensorFlow: /job:localhost/replica:0/task:0/device:GPU:0,/job:localhost/replica:0/task:0/device:GPU:1\n",
      "Metal device set to: Apple M4 Pro\n",
      "INFO:tensorflow:Using MirroredStrategy with devices ('/job:localhost/replica:0/task:0/device:GPU:0', '/job:localhost/replica:0/task:0/device:GPU:1')\n"
     ]
    },
    {
     "name": "stderr",
     "output_type": "stream",
     "text": [
      "2025-05-28 19:30:11.645091: I tensorflow/core/common_runtime/pluggable_device/pluggable_device_factory.cc:305] Could not identify NUMA node of platform GPU ID 0, defaulting to 0. Your kernel may not have been built with NUMA support.\n",
      "2025-05-28 19:30:11.645218: I tensorflow/core/common_runtime/pluggable_device/pluggable_device_factory.cc:271] Created TensorFlow device (/job:localhost/replica:0/task:0/device:GPU:0 with 0 MB memory) -> physical PluggableDevice (device: 0, name: METAL, pci bus id: <undefined>)\n",
      "All model checkpoint layers were used when initializing TFRobertaForSequenceClassification.\n",
      "\n",
      "All the layers of TFRobertaForSequenceClassification were initialized from the model checkpoint at ../ReqSeek/.\n",
      "If your task is similar to the task the model of the checkpoint was trained on, you can already use TFRobertaForSequenceClassification for predictions without further training.\n"
     ]
    }
   ],
   "source": [
    "import numpy as np\n",
    "import tensorflow as tf\n",
    "from transformers import TFAutoModelForSequenceClassification, AutoTokenizer\n",
    "\n",
    "\n",
    "strategy = tf.distribute.MirroredStrategy(devices = [\"GPU:0\", \"GPU:1\"])\n",
    "\n",
    "with strategy.scope():\n",
    "    model_name = \"../ReqSeek/\"\n",
    "    model = TFAutoModelForSequenceClassification.from_pretrained(model_name)\n",
    "    tokenizer = AutoTokenizer.from_pretrained(model_name)"
   ]
  },
  {
   "cell_type": "code",
   "execution_count": 7,
   "id": "00434efc-59a3-493e-b669-8213b4eb4e70",
   "metadata": {
    "tags": []
   },
   "outputs": [
    {
     "data": {
      "application/vnd.jupyter.widget-view+json": {
       "model_id": "f435ff33521f4c8a9261406c6b27a003",
       "version_major": 2,
       "version_minor": 0
      },
      "text/plain": [
       "Map:   0%|          | 0/60137 [00:00<?, ? examples/s]"
      ]
     },
     "metadata": {},
     "output_type": "display_data"
    }
   ],
   "source": [
    "def preprocess_function(dataset):\n",
    "        return tokenizer(dataset['Requirement Sentences'], truncation = True)\n",
    "\n",
    "uocssr_hf = uocssr_hf.map(preprocess_function, batched = True, batch_size = 256)"
   ]
  },
  {
   "cell_type": "code",
   "execution_count": 8,
   "id": "115d4c1d-8524-4a21-8221-c40e3a148fcc",
   "metadata": {
    "tags": []
   },
   "outputs": [],
   "source": [
    "def forward_pass(batch):\n",
    "    input_ids = batch['input_ids']\n",
    "    attention_masks = batch['attention_mask']\n",
    "\n",
    "    input_ids = tf.keras.preprocessing.sequence.pad_sequences(input_ids, padding = \"post\")\n",
    "    attention_masks = tf.keras.preprocessing.sequence.pad_sequences(attention_masks, padding = \"post\")\n",
    "\n",
    "    with tf.GradientTape() as tape:\n",
    "        output = model(input_ids, attention_masks)\n",
    "        predicted_labels = tf.argmax(output.logits, axis = -1).numpy()\n",
    "\n",
    "    return {\"isReqSysAuxContAux_with_keyword\": [model.config.id2label[lbl] for lbl in predicted_labels]}"
   ]
  },
  {
   "cell_type": "code",
   "execution_count": 9,
   "id": "93c61f44-4d5f-42c0-bdb8-86acf7812d9d",
   "metadata": {
    "tags": []
   },
   "outputs": [
    {
     "name": "stderr",
     "output_type": "stream",
     "text": [
      "WARNING:absl:Found untraced functions such as serving, encoder_layer_call_fn, encoder_layer_call_and_return_conditional_losses, embeddings_layer_call_fn, embeddings_layer_call_and_return_conditional_losses while saving (showing 5 of 423). These functions will not be directly callable after loading.\n"
     ]
    },
    {
     "name": "stdout",
     "output_type": "stream",
     "text": [
      "INFO:tensorflow:Assets written to: ram://acf50887-dcb3-4384-8139-aca73513c2e3/assets\n"
     ]
    },
    {
     "name": "stderr",
     "output_type": "stream",
     "text": [
      "INFO:tensorflow:Assets written to: ram://acf50887-dcb3-4384-8139-aca73513c2e3/assets\n"
     ]
    },
    {
     "data": {
      "application/vnd.jupyter.widget-view+json": {
       "model_id": "ff34369d9d5c454aa928b39b312dc54f",
       "version_major": 2,
       "version_minor": 0
      },
      "text/plain": [
       "Map:   0%|          | 0/60137 [00:00<?, ? examples/s]"
      ]
     },
     "metadata": {},
     "output_type": "display_data"
    }
   ],
   "source": [
    "with strategy.scope():\n",
    "    uocssr_hf = uocssr_hf.map(forward_pass, batched = True, batch_size = 8)"
   ]
  },
  {
   "cell_type": "code",
   "execution_count": 10,
   "id": "b355eac1-e935-4d94-8e4f-900e52eb202b",
   "metadata": {
    "tags": []
   },
   "outputs": [],
   "source": [
    "isReqSrsTxt = mapper.map(uocssr_hf['isReqSysAuxContAux_with_keyword'])\n",
    "isRequirement = mapper.twoClassMapper(uocssr_hf['isReqSysAuxContAux_with_keyword'])\n",
    "\n",
    "uocssr_hf = uocssr_hf.add_column('isReqSysAuxContAux', isReqSrsTxt)\n",
    "uocssr_hf = uocssr_hf.add_column('isReqAux', isRequirement)"
   ]
  },
  {
   "cell_type": "code",
   "execution_count": 11,
   "id": "74e16fb1-4220-4f36-9f3d-b63c8855de2b",
   "metadata": {
    "tags": []
   },
   "outputs": [],
   "source": [
    "uocssr_hf = uocssr_hf.rename_columns({\n",
    "    'Sources Type': 'Type',\n",
    "    'Sub Category (Source)':'NF Subclasses',\n",
    "    'Category (Source)': 'isF/NF',\n",
    "    'Open/ Closed Source': 'isOpen/Closed'\n",
    "})"
   ]
  },
  {
   "cell_type": "code",
   "execution_count": 12,
   "id": "42290bdb-5335-4943-bdb2-3817bbb9fb83",
   "metadata": {
    "tags": []
   },
   "outputs": [
    {
     "data": {
      "text/plain": [
       "Dataset({\n",
       "    features: ['Project Name', 'Subproject Name', 'Type', 'Requirement (EN)', 'isF/NF', 'NF Subclasses', 'isOpen/Closed', 'REQID', 'Requirement Sentences', 'REQID_expanded', 'isReqSysAuxContAux_with_keyword', 'isReqSysAuxContAux', 'isReqAux'],\n",
       "    num_rows: 60137\n",
       "})"
      ]
     },
     "execution_count": 12,
     "metadata": {},
     "output_type": "execute_result"
    }
   ],
   "source": [
    "uocssr_hf = uocssr_hf.remove_columns(column_names = ['__index_level_0__', \n",
    "                                        'input_ids', \n",
    "                                        'attention_mask',\n",
    "                                        'Date', \n",
    "                                        'Comment', \n",
    "                                        'Original Language Code', \n",
    "                                        'Requirement (DE)',\n",
    "                                        'Requirement (Other Language)',\n",
    "                                        'Category (Manual)',\n",
    "                                        'Sub Category (Manual)',\n",
    "                                       ])\n",
    "uocssr_hf"
   ]
  },
  {
   "cell_type": "code",
   "execution_count": 13,
   "id": "6abe95b6-2fa8-46ea-b259-c8b06fa0a827",
   "metadata": {
    "tags": []
   },
   "outputs": [
    {
     "data": {
      "text/plain": [
       "Dataset({\n",
       "    features: ['REQID', 'REQID_expanded', 'Project Name', 'Subproject Name', 'Type', 'isOpen/Closed', 'Requirement (EN)', 'Requirement Sentences', 'isF/NF', 'NF Subclasses', 'isReqSysAuxContAux_with_keyword', 'isReqSysAuxContAux', 'isReqAux'],\n",
       "    num_rows: 60137\n",
       "})"
      ]
     },
     "execution_count": 13,
     "metadata": {},
     "output_type": "execute_result"
    }
   ],
   "source": [
    "uocssr_hf = uocssr_hf.select_columns(['REQID', \n",
    "                         'REQID_expanded', \n",
    "                         'Project Name', \n",
    "                         'Subproject Name',\n",
    "                         'Type',\n",
    "                         'isOpen/Closed',\n",
    "                         'Requirement (EN)', \n",
    "                         'Requirement Sentences', \n",
    "                         'isF/NF', \n",
    "                         'NF Subclasses', \n",
    "                         'isReqSysAuxContAux_with_keyword', \n",
    "                         'isReqSysAuxContAux', \n",
    "                         'isReqAux'\n",
    "                        ])\n",
    "uocssr_hf"
   ]
  },
  {
   "cell_type": "code",
   "execution_count": 14,
   "id": "8dee6b90-fc37-4307-94cc-af7f7b38dec1",
   "metadata": {
    "tags": []
   },
   "outputs": [
    {
     "data": {
      "application/vnd.jupyter.widget-view+json": {
       "model_id": "fa7cb721dcef447d944ecc71c7ec24f8",
       "version_major": 2,
       "version_minor": 0
      },
      "text/plain": [
       "Filter:   0%|          | 0/60137 [00:00<?, ? examples/s]"
      ]
     },
     "metadata": {},
     "output_type": "display_data"
    }
   ],
   "source": [
    "# Removint publicly available datasets with not license\n",
    "\n",
    "excluded_projects = ['RCM Extractor', 'VHCURES', 'skysigal', 'Promise Modis', 'Generic Business Register', 'NIST']\n",
    "\n",
    "def filter_out_projects(dataset, excluded_values, column_name = 'Project Name'):\n",
    "    return dataset.filter(lambda example: example[column_name] not in excluded_values)\n",
    "\n",
    "\n",
    "uocssr_hf = filter_out_projects(uocssr_hf, excluded_projects, column_name = 'Project Name')"
   ]
  },
  {
   "cell_type": "code",
   "execution_count": 15,
   "id": "59386e11-fc6c-42a8-9974-5f0122d44b00",
   "metadata": {},
   "outputs": [
    {
     "data": {
      "application/vnd.jupyter.widget-view+json": {
       "model_id": "641c6bc923af44c0bbb73da6076140ee",
       "version_major": 2,
       "version_minor": 0
      },
      "text/plain": [
       "Filter:   0%|          | 0/59531 [00:00<?, ? examples/s]"
      ]
     },
     "metadata": {},
     "output_type": "display_data"
    },
    {
     "data": {
      "text/plain": [
       "Dataset({\n",
       "    features: ['REQID', 'REQID_expanded', 'Project Name', 'Subproject Name', 'Requirement Sentences', 'isF/NF', 'NF Subclasses', 'isReqSysAuxContAux_with_keyword', 'isReqSysAuxContAux', 'isReqAux'],\n",
       "    num_rows: 40522\n",
       "})"
      ]
     },
     "execution_count": 15,
     "metadata": {},
     "output_type": "execute_result"
    }
   ],
   "source": [
    "sward = uocssr_hf.filter(lambda x: x['isOpen/Closed'] == 'O')\n",
    "sward = sward.remove_columns(['Requirement (EN)', 'Type', 'isOpen/Closed'])\n",
    "sward"
   ]
  },
  {
   "cell_type": "code",
   "execution_count": 16,
   "id": "7ebcbb11-7955-4686-92a6-6492cc0d19a1",
   "metadata": {
    "tags": []
   },
   "outputs": [],
   "source": [
    "sward_info = datasets.DatasetInfo(\n",
    "    description = \"\"\"The SwaRD dataset is an identified collection of requirements identified from multiple publicly available sources using ReqSeek, each governed by its own license terms. While all source datasets are available for research and academic purposes, they are not uniformly licensed, and therefore SwaRD is not distributed under a unified license (see the license description).\"\"\",\n",
    "    citation = \"BLINDED\",\n",
    "    license = license_attribution.get_SwaRD_license_text(),\n",
    "    version = \"1.0.0\",\n",
    "    features = sward.features\n",
    ")"
   ]
  },
  {
   "cell_type": "code",
   "execution_count": 17,
   "id": "104ad9f1-db17-4949-b2bc-41af948bd37b",
   "metadata": {
    "tags": []
   },
   "outputs": [],
   "source": [
    "sward = datasets.Dataset.from_dict(sward.to_dict(), info = sward_info, features = sward.features)"
   ]
  },
  {
   "cell_type": "code",
   "execution_count": 18,
   "id": "3aa8a0d9-6114-465c-a82d-eeeddd9bdad8",
   "metadata": {
    "tags": []
   },
   "outputs": [],
   "source": [
    "# sward.save_to_disk('../datasets/SwaRD')"
   ]
  },
  {
   "cell_type": "code",
   "execution_count": 19,
   "id": "d103ee7a-8b90-482d-865c-08d71ce5cdb2",
   "metadata": {
    "tags": []
   },
   "outputs": [
    {
     "data": {
      "application/vnd.jupyter.widget-view+json": {
       "model_id": "b1511d651f8243d18ab8dcacaf0f6e42",
       "version_major": 2,
       "version_minor": 0
      },
      "text/plain": [
       "Filter:   0%|          | 0/59531 [00:00<?, ? examples/s]"
      ]
     },
     "metadata": {},
     "output_type": "display_data"
    },
    {
     "data": {
      "application/vnd.jupyter.widget-view+json": {
       "model_id": "e3d9b54f061040e9a4beec5d736d9af2",
       "version_major": 2,
       "version_minor": 0
      },
      "text/plain": [
       "Filter:   0%|          | 0/25644 [00:00<?, ? examples/s]"
      ]
     },
     "metadata": {},
     "output_type": "display_data"
    }
   ],
   "source": [
    "uocssr = uocssr_hf.filter(lambda x: x['Type'] == 'RE')\n",
    "uocssr = uocssr.filter(lambda x: x['isOpen/Closed'] == 'O')\n",
    "uocssr = uocssr.remove_columns(['Requirement Sentences', 'Type', 'isOpen/Closed', 'isReqSysAuxContAux_with_keyword', 'isReqSysAuxContAux', 'isReqAux'])\n",
    "uocssr = uocssr.rename_columns({'Requirement (EN)': 'Requirement Sentences'})"
   ]
  },
  {
   "cell_type": "code",
   "execution_count": 20,
   "id": "4c67655a-4ac4-43c0-b28b-bad9033ee3fe",
   "metadata": {
    "tags": []
   },
   "outputs": [],
   "source": [
    "uocssr_info = datasets.DatasetInfo(\n",
    "    description = \"\"\"The BLINEDED dataset is an identified collection of requirements identified from multiple publicly available sources using heuristics, each governed by its own license terms. While all source datasets are available for research and academic purposes, they are not uniformly licensed, and therefore BLINEDED dataset is not distributed under a unified license (see the license description).\"\"\",\n",
    "    citation = \"BLINDED\",\n",
    "    license = license_attribution.get_BLINDED_DATASET_license_text(),\n",
    "    version=\"1.0.0\",\n",
    "    features = uocssr.features,\n",
    ")"
   ]
  },
  {
   "cell_type": "code",
   "execution_count": 21,
   "id": "5699e0c6-5018-46d3-bf55-4e754ad779ce",
   "metadata": {
    "tags": []
   },
   "outputs": [],
   "source": [
    "uocssr = datasets.Dataset.from_dict(uocssr.to_dict(), info = uocssr_info, features = uocssr.features)"
   ]
  },
  {
   "cell_type": "code",
   "execution_count": 22,
   "id": "9105d4bb-c942-4b8b-87de-926e39934453",
   "metadata": {
    "tags": []
   },
   "outputs": [
    {
     "data": {
      "text/plain": [
       "Dataset({\n",
       "    features: ['REQID', 'REQID_expanded', 'Project Name', 'Subproject Name', 'Requirement Sentences', 'isF/NF', 'NF Subclasses'],\n",
       "    num_rows: 12080\n",
       "})"
      ]
     },
     "execution_count": 22,
     "metadata": {},
     "output_type": "execute_result"
    }
   ],
   "source": [
    "uocssr"
   ]
  },
  {
   "cell_type": "code",
   "execution_count": 23,
   "id": "403039b4-323f-4720-b846-a34bfdc33326",
   "metadata": {
    "tags": []
   },
   "outputs": [],
   "source": [
    "# uocssr.save_to_disk('../datasets/UOCSSR')"
   ]
  }
 ],
 "metadata": {
  "kernelspec": {
   "display_name": "metal-engine",
   "language": "python",
   "name": "metal-engine"
  },
  "language_info": {
   "codemirror_mode": {
    "name": "ipython",
    "version": 3
   },
   "file_extension": ".py",
   "mimetype": "text/x-python",
   "name": "python",
   "nbconvert_exporter": "python",
   "pygments_lexer": "ipython3",
   "version": "3.9.16"
  }
 },
 "nbformat": 4,
 "nbformat_minor": 5
}

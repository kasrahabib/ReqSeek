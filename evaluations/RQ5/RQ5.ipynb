{
 "cells": [
  {
   "cell_type": "code",
   "execution_count": 1,
   "id": "79efba05-014f-465c-904b-8f5db03d9c87",
   "metadata": {
    "tags": []
   },
   "outputs": [],
   "source": [
    "# Common imports\n",
    "\n",
    "import datasets\n",
    "import numpy as np\n",
    "import pandas as pd\n",
    "import seaborn as sns\n",
    "import matplotlib.pyplot as plt"
   ]
  },
  {
   "cell_type": "markdown",
   "id": "13a6aa33-b300-4322-9b1c-170adde866ac",
   "metadata": {},
   "source": [
    "# Loading Datasets"
   ]
  },
  {
   "cell_type": "code",
   "execution_count": 2,
   "id": "dcd1251f-68c9-48af-8073-8c688bd56e71",
   "metadata": {
    "tags": []
   },
   "outputs": [],
   "source": [
    "from datasets import Dataset"
   ]
  },
  {
   "cell_type": "code",
   "execution_count": 3,
   "id": "4350a32e-1795-4b2f-ba2c-42c62f67afae",
   "metadata": {
    "tags": []
   },
   "outputs": [
    {
     "data": {
      "text/plain": [
       "Dataset({\n",
       "    features: ['REQID', 'REQID_expanded', 'Project Name', 'Subproject Name', 'Requirement Sentences', 'isF/NF', 'NF Subclasses'],\n",
       "    num_rows: 12080\n",
       "})"
      ]
     },
     "execution_count": 3,
     "metadata": {},
     "output_type": "execute_result"
    }
   ],
   "source": [
    "# Loading UOCSSR\n",
    "\n",
    "uocssr_path = '../datasets/UOCSSR/'\n",
    "uocssr = datasets.load_from_disk(uocssr_path)\n",
    "uocssr"
   ]
  },
  {
   "cell_type": "code",
   "execution_count": 4,
   "id": "fc8effba-d39f-4707-b95f-49dacfc328b4",
   "metadata": {
    "tags": []
   },
   "outputs": [],
   "source": [
    "# Loading SwaRD\n",
    "\n",
    "sward_path = '../datasets/SwaRD/'\n",
    "sward = datasets.load_from_disk(sward_path)\n",
    "sward = sward.filter(lambda x: x['isReqAux'] == 'requirement')"
   ]
  },
  {
   "cell_type": "code",
   "execution_count": 5,
   "id": "12893b98-2c7e-4123-9c9d-bc74333dc9c3",
   "metadata": {
    "tags": []
   },
   "outputs": [
    {
     "name": "stdout",
     "output_type": "stream",
     "text": [
      "SRS Counts Forming SwaRD: 231 \n"
     ]
    }
   ],
   "source": [
    "sward_project_counts = len(np.unique(sward['Subproject Name']))\n",
    "print(f\"SRS Counts Forming SwaRD: {sward_project_counts} \")"
   ]
  },
  {
   "cell_type": "code",
   "execution_count": 6,
   "id": "a4d89311-ee04-4ef9-8ddb-7953147adc1d",
   "metadata": {
    "tags": []
   },
   "outputs": [
    {
     "data": {
      "text/plain": [
       "Dataset({\n",
       "    features: ['ID', 'Sentence', 'Detected as', 'Resolved as', 'Unnamed: 4', 'Unnamed: 5'],\n",
       "    num_rows: 212\n",
       "})"
      ]
     },
     "execution_count": 6,
     "metadata": {},
     "output_type": "execute_result"
    }
   ],
   "source": [
    "# Loading NLP4RE\n",
    "nlp4re = datasets.load_dataset('csv', \n",
    "                                data_files = {'train': './re_datasets_for_comparison/nlp4re/nlp4re_training.tsv', \n",
    "                                              'test': './re_datasets_for_comparison/nlp4re/nlp4re_test.tsv'}, delimiter = '\\t')\n",
    "nlp4re = datasets.concatenate_datasets([nlp4re['train'], nlp4re['test']])\n",
    "nlp4re"
   ]
  },
  {
   "cell_type": "code",
   "execution_count": 7,
   "id": "b4552568-9a45-4d4b-adea-7b7acd4c6955",
   "metadata": {
    "tags": []
   },
   "outputs": [
    {
     "data": {
      "text/plain": [
       "Dataset({\n",
       "    features: ['ProjectID', 'RequirementText', '_class_'],\n",
       "    num_rows: 969\n",
       "})"
      ]
     },
     "execution_count": 7,
     "metadata": {},
     "output_type": "execute_result"
    }
   ],
   "source": [
    "# Loading PROMISE\n",
    "import arff\n",
    "\n",
    "with open('./re_datasets_for_comparison/promise/PROMISE_exp.arff', 'r') as f:\n",
    "    raw_promise = arff.load(f)\n",
    "    \n",
    "promise = pd.DataFrame(raw_promise['data'], columns=[attr[0] for attr in raw_promise['attributes']])\n",
    "promise = datasets.Dataset.from_pandas(promise)\n",
    "promise"
   ]
  },
  {
   "cell_type": "code",
   "execution_count": 8,
   "id": "74bf0b35-cec3-4848-8d3a-69c454a3ee6c",
   "metadata": {
    "tags": []
   },
   "outputs": [],
   "source": [
    "# Convert Huggingface datasets to pandas DataFrames\n",
    "sward_df = sward.to_pandas().rename(columns={'Requirement Sentences': 'text'})\n",
    "uocssr_df = uocssr.to_pandas().rename(columns={'Requirement Sentences': 'text'})\n",
    "\n",
    "# reqexp_df = reqexp.to_pandas().rename(columns={'Requirement': 'text'})\n",
    "promise_df = promise.to_pandas().rename(columns={'RequirementText': 'text'})\n",
    "nlp4re_df = nlp4re.to_pandas().rename(columns={'Sentence': 'text'})"
   ]
  },
  {
   "cell_type": "code",
   "execution_count": 9,
   "id": "ed55c26f-15c2-4207-9684-a7d01beec1a1",
   "metadata": {
    "tags": []
   },
   "outputs": [],
   "source": [
    "# Packing dataframes\n",
    "dataframes = {\n",
    "    'SwaRD': sward_df,\n",
    "    'UOCSSR': uocssr_df,\n",
    "    'PROMISE': promise_df,\n",
    "    'NLP4RE': nlp4re_df\n",
    "}"
   ]
  },
  {
   "cell_type": "markdown",
   "id": "5b9e3dfa-dedb-4364-9f1a-5d96c39950fd",
   "metadata": {},
   "source": [
    "# Computing basic metrics"
   ]
  },
  {
   "cell_type": "code",
   "execution_count": 10,
   "id": "a329b938-10d0-46e9-80d8-b46702b4537b",
   "metadata": {
    "tags": []
   },
   "outputs": [
    {
     "name": "stderr",
     "output_type": "stream",
     "text": [
      "[nltk_data] Downloading package punkt to\n",
      "[nltk_data]     /Users/mohammadkasrahabib/nltk_data...\n",
      "[nltk_data]   Package punkt is already up-to-date!\n",
      "[nltk_data] Downloading package stopwords to\n",
      "[nltk_data]     /Users/mohammadkasrahabib/nltk_data...\n",
      "[nltk_data]   Package stopwords is already up-to-date!\n",
      "[nltk_data] Downloading package punkt_tab to\n",
      "[nltk_data]     /Users/mohammadkasrahabib/nltk_data...\n",
      "[nltk_data]   Package punkt_tab is already up-to-date!\n"
     ]
    },
    {
     "data": {
      "text/plain": [
       "True"
      ]
     },
     "execution_count": 10,
     "metadata": {},
     "output_type": "execute_result"
    }
   ],
   "source": [
    "import nltk\n",
    "from nltk.corpus import stopwords\n",
    "from nltk.tokenize import word_tokenize, sent_tokenize\n",
    "\n",
    "# Downloading NLTK data\n",
    "nltk.data.path.append(\"/Users/mohammadkasrahabib/nltk_data\")\n",
    "nltk.download('punkt')\n",
    "nltk.download('stopwords')\n",
    "nltk.download('punkt_tab')"
   ]
  },
  {
   "cell_type": "code",
   "execution_count": 11,
   "id": "0dbd8751-2b0c-4a1e-b892-dfcb748c4e80",
   "metadata": {
    "tags": []
   },
   "outputs": [],
   "source": [
    "def basic_stats(df, name):\n",
    "    num_reqs = len(df)\n",
    "    words = df['text'].apply(lambda x: len(word_tokenize(x)))\n",
    "    sentences = df['text'].apply(lambda x: len(sent_tokenize(x)))\n",
    "    avg_words = words.mean()\n",
    "    avg_sentences = sentences.mean()\n",
    "    vocab = set(word.lower() for text in df['text'] for word in word_tokenize(text) if word.isalpha())\n",
    "    vocab_size = len(vocab)\n",
    "    return {\n",
    "        'Dataset': name,\n",
    "        '#Requirements': num_reqs,\n",
    "        'Avg Words Per Requirement': avg_words,\n",
    "        'Avg Sentences Per Requirement': avg_sentences,\n",
    "        'Vocabulary Size': vocab_size\n",
    "    }"
   ]
  },
  {
   "cell_type": "markdown",
   "id": "9c4662fd-6c07-4224-8e4d-c10c3d67c9df",
   "metadata": {},
   "source": [
    "## Computing Lexical Diversity"
   ]
  },
  {
   "cell_type": "code",
   "execution_count": 12,
   "id": "17a33678-9d90-45b2-871c-3f58ab69f0c0",
   "metadata": {
    "tags": []
   },
   "outputs": [],
   "source": [
    "# Computing Hypergeometric Distribution Diversity (HD-D)\n",
    "from lexicalrichness import LexicalRichness\n",
    "\n",
    "def lexical_metrics(df):\n",
    "    all_text = ' '.join(df['text'].astype(str))\n",
    "    lex = LexicalRichness(all_text)\n",
    "    return lex.hdd(draws = 42)"
   ]
  },
  {
   "cell_type": "markdown",
   "id": "8e9ec3c1-73c0-48ef-81f9-ec06ddfc78ab",
   "metadata": {},
   "source": [
    "## Computing Domain Diversity"
   ]
  },
  {
   "cell_type": "code",
   "execution_count": 13,
   "id": "c719dc64-834d-4e28-9dfb-720a583ce320",
   "metadata": {
    "tags": []
   },
   "outputs": [],
   "source": [
    "from sklearn.feature_extraction.text import CountVectorizer\n",
    "from sklearn.decomposition import LatentDirichletAllocation\n",
    "\n",
    "# Normalized Entropy to compute entropy of accross different topics\n",
    "def normalized_entropy(p, n_topics = 15):\n",
    "    return -np.sum(p * np.log2(p + 1e-12)) / np.log2(n_topics)"
   ]
  },
  {
   "cell_type": "code",
   "execution_count": 14,
   "id": "afb768fc-8b85-42a5-85ce-9c13732845db",
   "metadata": {
    "tags": []
   },
   "outputs": [],
   "source": [
    "# LDA to extract topics\n",
    "def domain_diversity(df, n_topics = 15):\n",
    "    vectorizer = CountVectorizer(stop_words = 'english')\n",
    "    doc_term_matrix = vectorizer.fit_transform(df['text'].astype(str))\n",
    "\n",
    "    lda = LatentDirichletAllocation(n_components = n_topics, random_state = 42)\n",
    "    lda.fit(doc_term_matrix)\n",
    "\n",
    "    doc_topic_dist = lda.transform(doc_term_matrix)\n",
    "\n",
    "    entropies = [normalized_entropy(doc_dist, n_topics = n_topics) for doc_dist in doc_topic_dist]\n",
    "    return np.mean(entropies)"
   ]
  },
  {
   "cell_type": "code",
   "execution_count": 15,
   "id": "e7bf9fa0-5f6f-4dd3-bad4-8626d8a9359e",
   "metadata": {
    "tags": []
   },
   "outputs": [],
   "source": [
    "# Run across topic counts and datasets\n",
    "def evaluate_domain_diversity(datasets, topic_range):\n",
    "    results = []\n",
    "    for name, df in datasets.items():\n",
    "        for k in topic_range:\n",
    "            score = domain_diversity(df, n_topics = k)\n",
    "            results.append({'dataset': name, 'n_topics': k, 'normalized_entropy': score})\n",
    "    return pd.DataFrame(results)"
   ]
  },
  {
   "cell_type": "code",
   "execution_count": 16,
   "id": "1f5a79a1-3a70-494d-b6da-5a71cbdf1d95",
   "metadata": {
    "tags": []
   },
   "outputs": [],
   "source": [
    "# Define the range of topic numbers to test\n",
    "topic_range = [5, 10, 15, 20, 25, 30, 35, 40, 45, 50]\n",
    "results_df = evaluate_domain_diversity(dataframes, topic_range)"
   ]
  },
  {
   "cell_type": "code",
   "execution_count": 17,
   "id": "390361d6-4d1f-4a41-a422-8f49ecf6d202",
   "metadata": {
    "tags": []
   },
   "outputs": [
    {
     "data": {
      "text/html": [
       "<div>\n",
       "<style scoped>\n",
       "    .dataframe tbody tr th:only-of-type {\n",
       "        vertical-align: middle;\n",
       "    }\n",
       "\n",
       "    .dataframe tbody tr th {\n",
       "        vertical-align: top;\n",
       "    }\n",
       "\n",
       "    .dataframe thead th {\n",
       "        text-align: right;\n",
       "    }\n",
       "</style>\n",
       "<table border=\"1\" class=\"dataframe\">\n",
       "  <thead>\n",
       "    <tr style=\"text-align: right;\">\n",
       "      <th></th>\n",
       "      <th>dataset</th>\n",
       "      <th>normalized_entropy</th>\n",
       "    </tr>\n",
       "  </thead>\n",
       "  <tbody>\n",
       "    <tr>\n",
       "      <th>0</th>\n",
       "      <td>NLP4RE</td>\n",
       "      <td>0.169741</td>\n",
       "    </tr>\n",
       "    <tr>\n",
       "      <th>1</th>\n",
       "      <td>PROMISE</td>\n",
       "      <td>0.284766</td>\n",
       "    </tr>\n",
       "    <tr>\n",
       "      <th>2</th>\n",
       "      <td>SwaRD</td>\n",
       "      <td>0.372222</td>\n",
       "    </tr>\n",
       "    <tr>\n",
       "      <th>3</th>\n",
       "      <td>UOCSSR</td>\n",
       "      <td>0.357500</td>\n",
       "    </tr>\n",
       "  </tbody>\n",
       "</table>\n",
       "</div>"
      ],
      "text/plain": [
       "   dataset  normalized_entropy\n",
       "0   NLP4RE            0.169741\n",
       "1  PROMISE            0.284766\n",
       "2    SwaRD            0.372222\n",
       "3   UOCSSR            0.357500"
      ]
     },
     "execution_count": 17,
     "metadata": {},
     "output_type": "execute_result"
    }
   ],
   "source": [
    "avg_entropy = results_df.groupby(\"dataset\")[\"normalized_entropy\"].mean().reset_index()\n",
    "avg_entropy"
   ]
  },
  {
   "cell_type": "code",
   "execution_count": 18,
   "id": "6cbfb791-7310-408f-8116-a16d01514263",
   "metadata": {
    "tags": []
   },
   "outputs": [
    {
     "data": {
      "image/png": "[encoded data removed]",
      "text/plain": [
       "<Figure size 500x500 with 1 Axes>"
      ]
     },
     "metadata": {},
     "output_type": "display_data"
    }
   ],
   "source": [
    "datasets = sorted(results_df['dataset'].unique())\n",
    "num_vars = len(topic_range)\n",
    "\n",
    "\n",
    "angles = np.linspace(0, 2 * np.pi, num_vars, endpoint = False).tolist()\n",
    "angles += angles[:1]  # close the loop\n",
    "\n",
    "\n",
    "custom_colors = [\"#D55E00\", \"#0072B2\", \"#E69F00\", \"#CC79A7\"]\n",
    "\n",
    "line_styles = ['--', '-.', ':', '-']\n",
    "\n",
    "\n",
    "fig, ax = plt.subplots(figsize = (5, 5), subplot_kw = dict(polar=True))\n",
    "ax.set_facecolor('white')\n",
    "\n",
    "\n",
    "for i, name in enumerate(datasets):\n",
    "    group = results_df[results_df['dataset'] == name].sort_values('n_topics')\n",
    "    values = group['normalized_entropy'].tolist()\n",
    "    values += values[:1] \n",
    "\n",
    "    ax.plot(\n",
    "        angles, values,\n",
    "        label = name,\n",
    "        color = custom_colors[i % len(custom_colors)],\n",
    "        linewidth = 1.5,\n",
    "        linestyle = line_styles[i % len(line_styles)],\n",
    "        marker = '.'\n",
    "    )\n",
    "    ax.fill(\n",
    "        angles, values,\n",
    "        color = custom_colors[i % len(custom_colors)],\n",
    "        alpha = 0.08 * (i + 1)\n",
    "    )\n",
    "\n",
    "\n",
    "min_val = results_df['normalized_entropy'].min()\n",
    "max_val = results_df['normalized_entropy'].max()\n",
    "\n",
    "# Rounded bounds for nice radial grid\n",
    "radial_min = np.floor(min_val * 20) / 20\n",
    "radial_max = np.ceil(max_val * 20) / 20\n",
    "radial_ticks = np.arange(radial_min, radial_max + 0.001, 0.05)\n",
    "\n",
    "ax.set_ylim(radial_min, radial_max)\n",
    "ax.set_yticks(radial_ticks)\n",
    "ax.set_yticklabels([f\"{t:.2f}\" for t in radial_ticks], fontsize = 9)\n",
    "\n",
    "\n",
    "ax.set_xticks(angles[:-1])\n",
    "ax.set_xticklabels([str(t) for t in topic_range], fontsize = 10)\n",
    "\n",
    "ax.yaxis.grid(True, color = 'lightgray', linestyle = '-', linewidth = 0.9)\n",
    "ax.xaxis.grid(True, color='gray', linestyle = '--')\n",
    "ax.spines['polar'].set_color('lightgray')\n",
    "ax.spines['polar'].set_linewidth(1.2)\n",
    "\n",
    "\n",
    "ax.legend(loc = 'center', bbox_to_anchor = (0.55, -0.13), ncol = 5, fontsize = 9)\n",
    "# ax.set_title(\"Normalized Entropy Across Topic Counts\", pad = 20, fontsize = 12)\n",
    "\n",
    "\n",
    "plt.tight_layout()\n",
    "plt.savefig('./topics_diversity.pdf', dpi = 300)\n",
    "plt.show()"
   ]
  },
  {
   "cell_type": "markdown",
   "id": "525196d7-27ac-4a87-8ea4-efe83452c698",
   "metadata": {},
   "source": [
    "## Combining All Metrics Togather "
   ]
  },
  {
   "cell_type": "code",
   "execution_count": 19,
   "id": "7db96eb4-43ea-43dc-b8f5-63dbac333fa8",
   "metadata": {
    "tags": []
   },
   "outputs": [],
   "source": [
    "dfs = list(dataframes.values())\n",
    "names = list(dataframes.keys())\n",
    "\n",
    "stats = []\n",
    "for df, name in zip(dfs, names):\n",
    "    s = basic_stats(df, name)\n",
    "    s['Lexical Diversity'] = lexical_metrics(df)\n",
    "    s['Domain Diversity'] = domain_diversity(df)\n",
    "    stats.append(s)\n",
    "\n",
    "\n",
    "stats_df = pd.DataFrame(stats)\n",
    "# stats_df = pd.DataFrame(stats, index=names).T"
   ]
  },
  {
   "cell_type": "code",
   "execution_count": 20,
   "id": "b86780ec-451e-4071-8ca6-40a2ebf48d88",
   "metadata": {
    "tags": []
   },
   "outputs": [
    {
     "data": {
      "text/html": [
       "<div>\n",
       "<style scoped>\n",
       "    .dataframe tbody tr th:only-of-type {\n",
       "        vertical-align: middle;\n",
       "    }\n",
       "\n",
       "    .dataframe tbody tr th {\n",
       "        vertical-align: top;\n",
       "    }\n",
       "\n",
       "    .dataframe thead th {\n",
       "        text-align: right;\n",
       "    }\n",
       "</style>\n",
       "<table border=\"1\" class=\"dataframe\">\n",
       "  <thead>\n",
       "    <tr style=\"text-align: right;\">\n",
       "      <th></th>\n",
       "      <th>Dataset</th>\n",
       "      <th>#Requirements</th>\n",
       "      <th>Avg Words Per Requirement</th>\n",
       "      <th>Avg Sentences Per Requirement</th>\n",
       "      <th>Vocabulary Size</th>\n",
       "      <th>Lexical Diversity</th>\n",
       "      <th>Domain Diversity</th>\n",
       "    </tr>\n",
       "  </thead>\n",
       "  <tbody>\n",
       "    <tr>\n",
       "      <th>0</th>\n",
       "      <td>SwaRD</td>\n",
       "      <td>10201</td>\n",
       "      <td>20.194491</td>\n",
       "      <td>1.000000</td>\n",
       "      <td>8148</td>\n",
       "      <td>0.833763</td>\n",
       "      <td>0.375244</td>\n",
       "    </tr>\n",
       "    <tr>\n",
       "      <th>1</th>\n",
       "      <td>UOCSSR</td>\n",
       "      <td>12080</td>\n",
       "      <td>83.935596</td>\n",
       "      <td>3.304222</td>\n",
       "      <td>11170</td>\n",
       "      <td>0.875788</td>\n",
       "      <td>0.366632</td>\n",
       "    </tr>\n",
       "    <tr>\n",
       "      <th>2</th>\n",
       "      <td>PROMISE</td>\n",
       "      <td>969</td>\n",
       "      <td>19.317853</td>\n",
       "      <td>1.186791</td>\n",
       "      <td>2010</td>\n",
       "      <td>0.793894</td>\n",
       "      <td>0.297846</td>\n",
       "    </tr>\n",
       "    <tr>\n",
       "      <th>3</th>\n",
       "      <td>NLP4RE</td>\n",
       "      <td>212</td>\n",
       "      <td>32.688679</td>\n",
       "      <td>1.009434</td>\n",
       "      <td>1120</td>\n",
       "      <td>0.802572</td>\n",
       "      <td>0.182638</td>\n",
       "    </tr>\n",
       "  </tbody>\n",
       "</table>\n",
       "</div>"
      ],
      "text/plain": [
       "   Dataset  #Requirements  Avg Words Per Requirement  \\\n",
       "0    SwaRD          10201                  20.194491   \n",
       "1   UOCSSR          12080                  83.935596   \n",
       "2  PROMISE            969                  19.317853   \n",
       "3   NLP4RE            212                  32.688679   \n",
       "\n",
       "   Avg Sentences Per Requirement  Vocabulary Size  Lexical Diversity  \\\n",
       "0                       1.000000             8148           0.833763   \n",
       "1                       3.304222            11170           0.875788   \n",
       "2                       1.186791             2010           0.793894   \n",
       "3                       1.009434             1120           0.802572   \n",
       "\n",
       "   Domain Diversity  \n",
       "0          0.375244  \n",
       "1          0.366632  \n",
       "2          0.297846  \n",
       "3          0.182638  "
      ]
     },
     "execution_count": 20,
     "metadata": {},
     "output_type": "execute_result"
    }
   ],
   "source": [
    "stats_df"
   ]
  },
  {
   "cell_type": "markdown",
   "id": "6511e666-5ee7-4998-a6bd-89cd97d0e389",
   "metadata": {},
   "source": [
    "## Computing Semantic Overlap"
   ]
  },
  {
   "cell_type": "code",
   "execution_count": 21,
   "id": "88bd19d8-4b54-44a3-887f-dd4fe39fa3b7",
   "metadata": {
    "tags": []
   },
   "outputs": [],
   "source": [
    "import torch\n",
    "from transformers import AutoTokenizer, AutoModel\n",
    "from sklearn.metrics.pairwise import cosine_similarity"
   ]
  },
  {
   "cell_type": "code",
   "execution_count": 22,
   "id": "44de0c65-7dc1-4e6a-afcd-e6419ed5633e",
   "metadata": {
    "tags": []
   },
   "outputs": [
    {
     "data": {
      "text/plain": [
       "True"
      ]
     },
     "execution_count": 22,
     "metadata": {},
     "output_type": "execute_result"
    }
   ],
   "source": [
    "# Checking for GPU availability\n",
    "torch.backends.mps.is_available() == True"
   ]
  },
  {
   "cell_type": "code",
   "execution_count": 23,
   "id": "85c3ce11-0222-41c7-b9fa-4cfe3fae968e",
   "metadata": {
    "tags": []
   },
   "outputs": [],
   "source": [
    "# Selecting the GPU\n",
    "device = torch.device('cuda' if torch.cuda.is_available() else 'cpu')"
   ]
  },
  {
   "cell_type": "code",
   "execution_count": 24,
   "id": "aed793ae-c758-42a7-bb85-5ef141ec95c4",
   "metadata": {
    "tags": []
   },
   "outputs": [],
   "source": [
    "# Load a pretrained model from Hugging Face\n",
    "model_name = 'sentence-transformers/all-MiniLM-L6-v2'  # or any encoder model\n",
    "\n",
    "model = AutoModel.from_pretrained(model_name)\n",
    "tokenizer = AutoTokenizer.from_pretrained(model_name)\n",
    "\n",
    "# Converting datasets to sentence embeddings\n",
    "def embed_sentences(sentences):\n",
    "    inputs = tokenizer(sentences, return_tensors = 'pt', padding = True, truncation = True, max_length = 50)\n",
    "    inputs = {key: val.to(device) for key, val in inputs.items()}\n",
    "    with torch.no_grad():\n",
    "        outputs = model(**inputs)\n",
    "    embeddings = outputs.last_hidden_state.mean(dim=1)\n",
    "    \n",
    "    return embeddings.cpu().numpy()"
   ]
  },
  {
   "cell_type": "code",
   "execution_count": 25,
   "id": "4cd02746-aadf-4eac-b614-93d40760407e",
   "metadata": {
    "tags": []
   },
   "outputs": [],
   "source": [
    "# Computing semantic overlap\n",
    "def compute_semantic_overlap(dfs, names):\n",
    "    dataset_embeddings = []\n",
    "    for df in dfs:\n",
    "        sentences = df['text'].tolist()\n",
    "        batch_size = 32\n",
    "        all_embeddings = []\n",
    "        for i in range(0, len(sentences), batch_size):\n",
    "            batch = sentences[i:i+batch_size]\n",
    "            batch_embeddings = embed_sentences(batch)\n",
    "            all_embeddings.append(batch_embeddings)\n",
    "        all_embeddings = np.vstack(all_embeddings)\n",
    "        dataset_embeddings.append(all_embeddings)\n",
    "\n",
    "    similarity_matrix = np.zeros((len(dfs), len(dfs)))\n",
    "\n",
    "    for i in range(len(dfs)):\n",
    "        for j in range(len(dfs)):\n",
    "            sim_matrix = cosine_similarity(dataset_embeddings[i], dataset_embeddings[j])\n",
    "            similarity_matrix[i, j] = np.mean(np.max(sim_matrix, axis = 1))\n",
    "\n",
    "    sim_df = pd.DataFrame(similarity_matrix, index = names, columns = names)\n",
    "    return sim_df"
   ]
  },
  {
   "cell_type": "code",
   "execution_count": 26,
   "id": "4c5ec577-a59b-4625-939b-b049f22a7dac",
   "metadata": {
    "tags": []
   },
   "outputs": [],
   "source": [
    "# Semantic Overlap\n",
    "semantic_overlap_df = compute_semantic_overlap(dfs, names)"
   ]
  },
  {
   "cell_type": "code",
   "execution_count": 27,
   "id": "2dead375-40b7-4101-b40b-fda63421c747",
   "metadata": {
    "tags": []
   },
   "outputs": [
    {
     "data": {
      "image/png": "[encoded data removed]",
      "text/plain": [
       "<Figure size 600x400 with 2 Axes>"
      ]
     },
     "metadata": {},
     "output_type": "display_data"
    }
   ],
   "source": [
    "# Visualizations\n",
    "plt.figure(figsize = (6, 4))\n",
    "sns.heatmap(semantic_overlap_df, annot = True, cmap = 'YlOrBr')\n",
    "# plt.title('Semantic Overlap Between Datasets')\n",
    "plt.savefig('./semantic_overlap.pdf', dpi = 300)\n",
    "plt.show()"
   ]
  },
  {
   "cell_type": "code",
   "execution_count": null,
   "id": "569353e1-404d-4781-8b63-1c675b8bb713",
   "metadata": {},
   "outputs": [],
   "source": []
  }
 ],
 "metadata": {
  "kernelspec": {
   "display_name": "metal-engine",
   "language": "python",
   "name": "metal-engine"
  },
  "language_info": {
   "codemirror_mode": {
    "name": "ipython",
    "version": 3
   },
   "file_extension": ".py",
   "mimetype": "text/x-python",
   "name": "python",
   "nbconvert_exporter": "python",
   "pygments_lexer": "ipython3",
   "version": "3.9.16"
  }
 },
 "nbformat": 4,
 "nbformat_minor": 5
}

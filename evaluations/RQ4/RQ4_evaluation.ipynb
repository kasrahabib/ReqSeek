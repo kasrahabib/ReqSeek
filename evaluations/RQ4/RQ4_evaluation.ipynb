{
 "cells": [
  {
   "cell_type": "code",
   "execution_count": 1,
   "id": "989b55f0-b09f-4fd7-be20-37834bb0e4e9",
   "metadata": {
    "tags": []
   },
   "outputs": [],
   "source": [
    "# Common imports\n",
    "\n",
    "import sys\n",
    "sys.path.append(\"../datasets/ARID_supporting_scripts\")\n",
    "\n",
    "import json\n",
    "import mapper\n",
    "import datasets\n",
    "import numpy as np\n",
    "import pandas as pd\n",
    "import tensorflow as tf\n",
    "from tensorflow import keras\n",
    "import matplotlib.pyplot as plt"
   ]
  },
  {
   "cell_type": "code",
   "execution_count": 2,
   "id": "40ae42f7-ac45-4b21-8938-098bad6607f7",
   "metadata": {
    "tags": []
   },
   "outputs": [],
   "source": [
    "def load_jsonl(filename):\n",
    "    \n",
    "    jlines = []\n",
    "    with open(filename, \"r\", encoding = \"utf-8\") as file:\n",
    "        for line in file:\n",
    "            line = line.strip()\n",
    "            if line:\n",
    "                jlines.append(json.loads(line)) \n",
    "                \n",
    "    processed_jlines = []\n",
    "    for item in jlines:\n",
    "        processed_jline = {'id': item.get('id'), 'text': item.get('text'), 'label': item.get('label')}\n",
    "        processed_jline['label'] = (lambda l: l[0] if isinstance(l, list) and len(l) > 0 else (l if not isinstance(l, list) else 'non_requirement_text'))(item.get('label'))\n",
    "        processed_jlines.append(processed_jline)\n",
    "        \n",
    "    return processed_jlines"
   ]
  },
  {
   "cell_type": "code",
   "execution_count": 3,
   "id": "9dc917df-2b09-4240-9d72-f851888e31cb",
   "metadata": {
    "tags": []
   },
   "outputs": [
    {
     "name": "stdout",
     "output_type": "stream",
     "text": [
      "Metal device set to: Apple M4 Pro\n"
     ]
    },
    {
     "name": "stderr",
     "output_type": "stream",
     "text": [
      "2025-05-26 16:11:14.039347: I tensorflow/core/common_runtime/pluggable_device/pluggable_device_factory.cc:305] Could not identify NUMA node of platform GPU ID 0, defaulting to 0. Your kernel may not have been built with NUMA support.\n",
      "2025-05-26 16:11:14.039461: I tensorflow/core/common_runtime/pluggable_device/pluggable_device_factory.cc:271] Created TensorFlow device (/job:localhost/replica:0/task:0/device:GPU:0 with 0 MB memory) -> physical PluggableDevice (device: 0, name: METAL, pci bus id: <undefined>)\n",
      "All model checkpoint layers were used when initializing TFRobertaForSequenceClassification.\n",
      "\n",
      "All the layers of TFRobertaForSequenceClassification were initialized from the model checkpoint at ../ReqSeek/.\n",
      "If your task is similar to the task the model of the checkpoint was trained on, you can already use TFRobertaForSequenceClassification for predictions without further training.\n"
     ]
    }
   ],
   "source": [
    "from transformers import AutoTokenizer, TFAutoModelForSequenceClassification\n",
    "\n",
    "batch_size = 16\n",
    "\n",
    "model_ckpt = '../ReqSeek/'\n",
    "tokenizer = AutoTokenizer.from_pretrained(model_ckpt)\n",
    "\n",
    "model = TFAutoModelForSequenceClassification.from_pretrained(model_ckpt)"
   ]
  },
  {
   "cell_type": "code",
   "execution_count": 4,
   "id": "18abd09a-3a9e-4d1e-8e01-d579f310c2d3",
   "metadata": {
    "tags": []
   },
   "outputs": [],
   "source": [
    "label2id = model.config.label2id\n",
    "id2label = model.config.id2label"
   ]
  },
  {
   "cell_type": "code",
   "execution_count": 5,
   "id": "444821aa-b3ec-4404-8468-ceda6bdadf98",
   "metadata": {
    "tags": []
   },
   "outputs": [],
   "source": [
    "def preprocess_function(dataset):\n",
    "    return tokenizer(dataset['text'], truncation = True)"
   ]
  },
  {
   "cell_type": "code",
   "execution_count": 6,
   "id": "9ac72087-4c4d-4856-860a-f859d7662e5b",
   "metadata": {
    "tags": []
   },
   "outputs": [],
   "source": [
    "def forward_pass_with_label(batch):\n",
    "    input_ids = batch['input_ids']\n",
    "    attention_masks = batch['attention_mask']\n",
    "    true_labels = tf.convert_to_tensor( batch['label'])\n",
    "    input_ids = tf.keras.preprocessing.sequence.pad_sequences(input_ids, padding = \"post\")\n",
    "    attention_masks = tf.keras.preprocessing.sequence.pad_sequences(attention_masks, padding = \"post\")\n",
    "    with tf.GradientTape() as tape:\n",
    "        output = model(input_ids, attention_masks)\n",
    "        probas = tf.nn.softmax(output.logits, axis = -1).numpy()\n",
    "        predicted_labels = tf.argmax(output.logits, axis = -1).numpy()\n",
    "    \n",
    "    return {\"y_pred\": mapper.twoClassMapper([id2label[lbl] for lbl in predicted_labels]), \n",
    "            \"y_probas\": [probas[i][predicted_labels[i]] for i in range(len(predicted_labels))]}"
   ]
  },
  {
   "cell_type": "markdown",
   "id": "b0512522-2357-41e7-b95d-e338ae2f44b3",
   "metadata": {},
   "source": [
    "# Loading SRS 1: Software Requirements Specification (SRS) For the <Nodes Portal Toolkit (NPT)>"
   ]
  },
  {
   "cell_type": "code",
   "execution_count": 7,
   "id": "060103f9-7a67-473f-b045-1f2825861b7b",
   "metadata": {
    "tags": []
   },
   "outputs": [],
   "source": [
    "srs_1_path = \"./three_real_world_srs/ntp/ntp_labeled.jsonl\"\n",
    "srs_1_requirements = load_jsonl(srs_1_path)\n",
    "srs_1_requirements_hf = datasets.Dataset.from_list(srs_1_requirements)"
   ]
  },
  {
   "cell_type": "code",
   "execution_count": 8,
   "id": "10678cd1-16ac-4bb1-bb11-ae92b5dda6a5",
   "metadata": {
    "tags": []
   },
   "outputs": [
    {
     "data": {
      "application/vnd.jupyter.widget-view+json": {
       "model_id": "b36dbc6f842d4863b51acdd64fa65bb0",
       "version_major": 2,
       "version_minor": 0
      },
      "text/plain": [
       "Map:   0%|          | 0/1065 [00:00<?, ? examples/s]"
      ]
     },
     "metadata": {},
     "output_type": "display_data"
    },
    {
     "name": "stderr",
     "output_type": "stream",
     "text": [
      "WARNING:absl:Found untraced functions such as serving, encoder_layer_call_fn, encoder_layer_call_and_return_conditional_losses, embeddings_layer_call_fn, embeddings_layer_call_and_return_conditional_losses while saving (showing 5 of 423). These functions will not be directly callable after loading.\n"
     ]
    },
    {
     "name": "stdout",
     "output_type": "stream",
     "text": [
      "INFO:tensorflow:Assets written to: ram://f43d7cea-95b8-4374-9531-410b3d51dde6/assets\n"
     ]
    },
    {
     "name": "stderr",
     "output_type": "stream",
     "text": [
      "INFO:tensorflow:Assets written to: ram://f43d7cea-95b8-4374-9531-410b3d51dde6/assets\n"
     ]
    },
    {
     "data": {
      "application/vnd.jupyter.widget-view+json": {
       "model_id": "6888bb1b47024fafb932a1ed5f2a3769",
       "version_major": 2,
       "version_minor": 0
      },
      "text/plain": [
       "Map:   0%|          | 0/1065 [00:00<?, ? examples/s]"
      ]
     },
     "metadata": {},
     "output_type": "display_data"
    }
   ],
   "source": [
    "srs_1_requirements_hf_encoded = srs_1_requirements_hf.map(preprocess_function, batched = True)\n",
    "srs_1_requirements_hf_predicted = srs_1_requirements_hf_encoded.map(forward_pass_with_label, batched = True, batch_size = 8)"
   ]
  },
  {
   "cell_type": "code",
   "execution_count": 9,
   "id": "022859f4-9a16-4e38-b883-1bc70644cf61",
   "metadata": {
    "tags": []
   },
   "outputs": [
    {
     "data": {
      "text/html": [
       "<div>\n",
       "<style scoped>\n",
       "    .dataframe tbody tr th:only-of-type {\n",
       "        vertical-align: middle;\n",
       "    }\n",
       "\n",
       "    .dataframe tbody tr th {\n",
       "        vertical-align: top;\n",
       "    }\n",
       "\n",
       "    .dataframe thead th {\n",
       "        text-align: right;\n",
       "    }\n",
       "</style>\n",
       "<table border=\"1\" class=\"dataframe\">\n",
       "  <thead>\n",
       "    <tr style=\"text-align: right;\">\n",
       "      <th></th>\n",
       "      <th>id</th>\n",
       "      <th>text</th>\n",
       "      <th>label</th>\n",
       "      <th>input_ids</th>\n",
       "      <th>attention_mask</th>\n",
       "      <th>y_pred</th>\n",
       "      <th>y_probas</th>\n",
       "    </tr>\n",
       "  </thead>\n",
       "  <tbody>\n",
       "    <tr>\n",
       "      <th>0</th>\n",
       "      <td>108084</td>\n",
       "      <td>See discussions, stats, and author profiles fo...</td>\n",
       "      <td>auxiliary</td>\n",
       "      <td>[0, 19224, 4404, 6, 13076, 6, 8, 2730, 11729, ...</td>\n",
       "      <td>[1, 1, 1, 1, 1, 1, 1, 1, 1, 1, 1, 1, 1, 1, 1, ...</td>\n",
       "      <td>auxiliary</td>\n",
       "      <td>0.995020</td>\n",
       "    </tr>\n",
       "    <tr>\n",
       "      <th>1</th>\n",
       "      <td>108085</td>\n",
       "      <td>Software Requirements Specification (SRS) for ...</td>\n",
       "      <td>auxiliary</td>\n",
       "      <td>[0, 45752, 41333, 33534, 5000, 36, 104, 8105, ...</td>\n",
       "      <td>[1, 1, 1, 1, 1, 1, 1, 1, 1, 1, 1, 1, 1, 1, 1, ...</td>\n",
       "      <td>auxiliary</td>\n",
       "      <td>0.997657</td>\n",
       "    </tr>\n",
       "    <tr>\n",
       "      <th>2</th>\n",
       "      <td>108086</td>\n",
       "      <td>Technical Report · September 2011</td>\n",
       "      <td>auxiliary</td>\n",
       "      <td>[0, 43997, 2872, 13339, 772, 1466, 2]</td>\n",
       "      <td>[1, 1, 1, 1, 1, 1, 1]</td>\n",
       "      <td>auxiliary</td>\n",
       "      <td>0.991429</td>\n",
       "    </tr>\n",
       "    <tr>\n",
       "      <th>3</th>\n",
       "      <td>108087</td>\n",
       "      <td>2 authors, including:</td>\n",
       "      <td>auxiliary</td>\n",
       "      <td>[0, 176, 7601, 6, 217, 35, 2]</td>\n",
       "      <td>[1, 1, 1, 1, 1, 1, 1]</td>\n",
       "      <td>auxiliary</td>\n",
       "      <td>0.757307</td>\n",
       "    </tr>\n",
       "    <tr>\n",
       "      <th>4</th>\n",
       "      <td>108088</td>\n",
       "      <td>Université Libre de Bruxelles</td>\n",
       "      <td>auxiliary</td>\n",
       "      <td>[0, 9685, 10744, 21193, 40514, 263, 11831, 117...</td>\n",
       "      <td>[1, 1, 1, 1, 1, 1, 1, 1, 1, 1, 1]</td>\n",
       "      <td>auxiliary</td>\n",
       "      <td>0.991989</td>\n",
       "    </tr>\n",
       "  </tbody>\n",
       "</table>\n",
       "</div>"
      ],
      "text/plain": [
       "       id                                               text      label  \\\n",
       "0  108084  See discussions, stats, and author profiles fo...  auxiliary   \n",
       "1  108085  Software Requirements Specification (SRS) for ...  auxiliary   \n",
       "2  108086                  Technical Report · September 2011  auxiliary   \n",
       "3  108087                              2 authors, including:  auxiliary   \n",
       "4  108088                      Université Libre de Bruxelles  auxiliary   \n",
       "\n",
       "                                           input_ids  \\\n",
       "0  [0, 19224, 4404, 6, 13076, 6, 8, 2730, 11729, ...   \n",
       "1  [0, 45752, 41333, 33534, 5000, 36, 104, 8105, ...   \n",
       "2              [0, 43997, 2872, 13339, 772, 1466, 2]   \n",
       "3                      [0, 176, 7601, 6, 217, 35, 2]   \n",
       "4  [0, 9685, 10744, 21193, 40514, 263, 11831, 117...   \n",
       "\n",
       "                                      attention_mask     y_pred  y_probas  \n",
       "0  [1, 1, 1, 1, 1, 1, 1, 1, 1, 1, 1, 1, 1, 1, 1, ...  auxiliary  0.995020  \n",
       "1  [1, 1, 1, 1, 1, 1, 1, 1, 1, 1, 1, 1, 1, 1, 1, ...  auxiliary  0.997657  \n",
       "2                              [1, 1, 1, 1, 1, 1, 1]  auxiliary  0.991429  \n",
       "3                              [1, 1, 1, 1, 1, 1, 1]  auxiliary  0.757307  \n",
       "4                  [1, 1, 1, 1, 1, 1, 1, 1, 1, 1, 1]  auxiliary  0.991989  "
      ]
     },
     "execution_count": 9,
     "metadata": {},
     "output_type": "execute_result"
    }
   ],
   "source": [
    "srs_1_requirements_hf_predicted.to_pandas()[:5]"
   ]
  },
  {
   "cell_type": "code",
   "execution_count": 10,
   "id": "0ddc9305-5723-4f3e-a2dc-1f7da9ee2c67",
   "metadata": {
    "tags": []
   },
   "outputs": [],
   "source": [
    "y_true_srs_1 = srs_1_requirements_hf_predicted['label']\n",
    "y_pred_srs_1 = srs_1_requirements_hf_predicted['y_pred']"
   ]
  },
  {
   "cell_type": "code",
   "execution_count": 11,
   "id": "7a566646-4cea-4209-988f-50bceafa4afe",
   "metadata": {
    "tags": []
   },
   "outputs": [],
   "source": [
    "from sklearn.metrics import precision_score, recall_score, f1_score\n",
    "\n",
    "def evaluate(y_true, y_pred, average = 'binary'):\n",
    "    print('Precision: ', precision_score(y_true, y_pred, average = average))\n",
    "    print('Recall: ', recall_score(y_true, y_pred, average = average))\n",
    "    print('Recall: ', f1_score(y_true, y_pred, average = average))"
   ]
  },
  {
   "cell_type": "code",
   "execution_count": 12,
   "id": "03efe513-c716-4926-8743-daf34c86b99b",
   "metadata": {
    "tags": []
   },
   "outputs": [
    {
     "name": "stdout",
     "output_type": "stream",
     "text": [
      "Precision:  0.9401475966716772\n",
      "Recall:  0.9842150837261388\n",
      "Recall:  0.9604103936656629\n"
     ]
    }
   ],
   "source": [
    "evaluate(y_true_srs_1, y_pred_srs_1, average = 'macro')"
   ]
  },
  {
   "cell_type": "code",
   "execution_count": 13,
   "id": "6d0c8eed-649d-45ad-976f-addd515781e2",
   "metadata": {
    "tags": []
   },
   "outputs": [],
   "source": [
    "from sklearn.metrics import ConfusionMatrixDisplay, confusion_matrix\n",
    "\n",
    "def plot_confusion_matrix(y_preds, y_true, labels, ax):\n",
    "    unique_labels = set(y_true).union(set(y_preds))\n",
    "    if len(unique_labels) != len(labels):\n",
    "        raise ValueError(f\"The number of unique labels in y_true and y_preds is {len(unique_labels)}, but got {len(labels)} labels.\")\n",
    "    \n",
    "    cm = confusion_matrix(y_true, y_preds, normalize=\"true\", labels=list(unique_labels))\n",
    "    disp = ConfusionMatrixDisplay(confusion_matrix=cm, display_labels=labels)\n",
    "    disp.plot(cmap=\"Blues\", values_format=\".2f\", ax=ax)\n",
    "    ax.set_title(\"Normalized confusion matrix\")\n",
    "    ax.set_xticklabels(labels, rotation=90)"
   ]
  },
  {
   "cell_type": "code",
   "execution_count": 14,
   "id": "7b7fbcf6-7385-4a2a-a0d2-347ae67984f0",
   "metadata": {
    "tags": []
   },
   "outputs": [
    {
     "data": {
      "image/png": "[encoded data removed]",
      "text/plain": [
       "<Figure size 1200x500 with 2 Axes>"
      ]
     },
     "metadata": {},
     "output_type": "display_data"
    }
   ],
   "source": [
    "lables = np.unique(y_true_srs_1)\n",
    "fig, ax = plt.subplots(figsize = (12, 5))\n",
    "plot_confusion_matrix(y_pred_srs_1, y_true_srs_1, lables, ax)"
   ]
  },
  {
   "cell_type": "code",
   "execution_count": 15,
   "id": "4d86d253-bfe1-491e-9ec9-ec42b731ac7f",
   "metadata": {
    "collapsed": true,
    "jupyter": {
     "outputs_hidden": true
    },
    "tags": []
   },
   "outputs": [
    {
     "name": "stdout",
     "output_type": "stream",
     "text": [
      "ID:  108154\n",
      "True Class:  auxiliary\n",
      "Predicted Class:  requirement\n",
      "Probability:  0.9967625141143799\n",
      "Text:  The NPT should enable the Node Managers to customize the way GBIF-compliant data are served to their own community or to a specific group of data users.\n",
      "##########\n",
      "ID:  108177\n",
      "True Class:  auxiliary\n",
      "Predicted Class:  requirement\n",
      "Probability:  0.9964426159858704\n",
      "Text:  - Green: NPT V1.0 must have this feature\n",
      "##########\n",
      "ID:  108178\n",
      "True Class:  auxiliary\n",
      "Predicted Class:  requirement\n",
      "Probability:  0.9966327548027039\n",
      "Text:  - Yellow: NPT V1.0 should have this feature if at all possible\n",
      "##########\n",
      "ID:  108194\n",
      "True Class:  auxiliary\n",
      "Predicted Class:  requirement\n",
      "Probability:  0.9961431622505188\n",
      "Text:  This section lists the different actors NPT instances shall interact with: end users (primary actors) and actors from which the system needs assistance to satisfy a goal (secondary actors).\n",
      "##########\n",
      "ID:  108200\n",
      "True Class:  auxiliary\n",
      "Predicted Class:  requirement\n",
      "Probability:  0.996757447719574\n",
      "Text:  Administrators should have skills in system administration, database management and deployment of Web applications.\n",
      "##########\n",
      "ID:  108201\n",
      "True Class:  auxiliary\n",
      "Predicted Class:  requirement\n",
      "Probability:  0.6481983661651611\n",
      "Text:  They should also have basic knowledge of Web-based GIS.\n",
      "##########\n",
      "ID:  108203\n",
      "True Class:  auxiliary\n",
      "Predicted Class:  requirement\n",
      "Probability:  0.9964560866355896\n",
      "Text:  Data managers should have basic knowledge of taxonomy and biodiversity data.\n",
      "##########\n",
      "ID:  108209\n",
      "True Class:  auxiliary\n",
      "Predicted Class:  requirement\n",
      "Probability:  0.9915701150894165\n",
      "Text:  Other data source types may be provided as modules in the future.\n",
      "##########\n",
      "ID:  108493\n",
      "True Class:  requirement\n",
      "Predicted Class:  auxiliary\n",
      "Probability:  0.8999695181846619\n",
      "Text:  In addition, NPT developers should provide the possibility to consume services and functions that are created elsewhere.\n",
      "##########\n",
      "ID:  108538\n",
      "True Class:  auxiliary\n",
      "Predicted Class:  requirement\n",
      "Probability:  0.6584690809249878\n",
      "Text:  - Maintenance mode: the mode the system switches to when achieving certain operations that may prevent to deliver a satisfactory experience to the user in particular when the index may be inconsistent.\n",
      "##########\n",
      "ID:  108555\n",
      "True Class:  auxiliary\n",
      "Predicted Class:  requirement\n",
      "Probability:  0.9964448809623718\n",
      "Text:  A user may only initiate the use cases in this section if he is logged into the system using a user account with administrator role.\n",
      "##########\n",
      "ID:  108591\n",
      "True Class:  auxiliary\n",
      "Predicted Class:  requirement\n",
      "Probability:  0.9968075752258301\n",
      "Text:  Post conditions The distribution map will use the projection and default extent the administrator chose.\n",
      "##########\n",
      "ID:  108596\n",
      "True Class:  auxiliary\n",
      "Predicted Class:  requirement\n",
      "Probability:  0.9961249232292175\n",
      "Text:  The administrator enters the default extent and selects the projection that will be used by the distribution map from the list.\n",
      "##########\n",
      "ID:  108632\n",
      "True Class:  auxiliary\n",
      "Predicted Class:  requirement\n",
      "Probability:  0.9963933825492859\n",
      "Text:  Depending on the roles the administrator associates with those accounts, the users may be allowed to access restricted back end functionalities.\n",
      "##########\n",
      "ID:  108653\n",
      "True Class:  auxiliary\n",
      "Predicted Class:  requirement\n",
      "Probability:  0.9967664480209351\n",
      "Text:  The system requests the security officer to select the security roles this user account will be associated with.\n",
      "##########\n",
      "ID:  108659\n",
      "True Class:  auxiliary\n",
      "Predicted Class:  requirement\n",
      "Probability:  0.9965084195137024\n",
      "Text:  A user may only initiate the use cases in this section if he is logged into the system using a user account with data manager role.\n",
      "##########\n",
      "ID:  108733\n",
      "True Class:  auxiliary\n",
      "Predicted Class:  requirement\n",
      "Probability:  0.9967672824859619\n",
      "Text:  The visitor enters the request parameters that will be used to query GBIF portal API.\n",
      "##########\n",
      "ID:  108751\n",
      "True Class:  auxiliary\n",
      "Predicted Class:  requirement\n",
      "Probability:  0.9961091876029968\n",
      "Text:  During next harvesting job, no occurrence records will be harvested from this data source.\n",
      "##########\n",
      "ID:  108837\n",
      "True Class:  auxiliary\n",
      "Predicted Class:  requirement\n",
      "Probability:  0.9896124005317688\n",
      "Text:  The system informs the data manager that the process may be long and that an email will be sent to him upon completion.\n",
      "##########\n",
      "ID:  108873\n",
      "True Class:  auxiliary\n",
      "Predicted Class:  requirement\n",
      "Probability:  0.9965153932571411\n",
      "Text:  A user may only initiate the use cases in this section if he is logged into the system using an account with portal manager role.\n",
      "##########\n",
      "ID:  109018\n",
      "True Class:  auxiliary\n",
      "Predicted Class:  requirement\n",
      "Probability:  0.9958077669143677\n",
      "Text:  The system warns visitor that the process may take up to half an hour.\n",
      "##########\n",
      "ID:  109028\n",
      "True Class:  auxiliary\n",
      "Predicted Class:  requirement\n",
      "Probability:  0.9965986609458923\n",
      "Text:  If the user does, the system will remember and the use case resumes at step c.\n",
      "##########\n",
      "ID:  109097\n",
      "True Class:  auxiliary\n",
      "Predicted Class:  requirement\n",
      "Probability:  0.996489942073822\n",
      "Text:  A visitor may only initiate the use cases in this section if he is logged into the system as a registered visitor.\n",
      "##########\n",
      "ID:  109132\n",
      "True Class:  auxiliary\n",
      "Predicted Class:  requirement\n",
      "Probability:  0.9969943761825562\n",
      "Text:  BR1 Visitors must accept the portal data usage agreement before being allowed to export data from the portal.\n",
      "##########\n"
     ]
    }
   ],
   "source": [
    "idx = np.where(np.array(y_true_srs_1) != np.array(y_pred_srs_1))[0]\n",
    "filtered_dataset = srs_1_requirements_hf_predicted.select(idx)\n",
    "for idx, label, y_pred, y_proba, text in zip(filtered_dataset['id'], filtered_dataset['label'], filtered_dataset['y_pred'], filtered_dataset['y_probas'], filtered_dataset['text']):\n",
    "    print('ID: ', idx)\n",
    "    print('True Class: ', label)\n",
    "    print('Predicted Class: ', y_pred)\n",
    "    print('Probability: ', y_proba)\n",
    "    print('Text: ', text)\n",
    "    print('#' * 10)"
   ]
  },
  {
   "cell_type": "markdown",
   "id": "e031e0aa-e9a8-42db-9354-730461cbff0f",
   "metadata": {},
   "source": [
    "# Loading SRS 2: Software Requirements Specification Restaurant Menu & Ordering System"
   ]
  },
  {
   "cell_type": "code",
   "execution_count": 16,
   "id": "41ead061-e467-4f74-87de-e8cb2542b924",
   "metadata": {
    "tags": []
   },
   "outputs": [],
   "source": [
    "srs_2_path = \"./three_real_world_srs/rmos/rmos_labeled.jsonl\"\n",
    "srs_2_requirements = load_jsonl(srs_2_path)\n",
    "srs_2_requirements_hf = datasets.Dataset.from_list(srs_2_requirements)"
   ]
  },
  {
   "cell_type": "code",
   "execution_count": 17,
   "id": "a38e7b40-b967-45da-a569-252eb26572ad",
   "metadata": {
    "tags": []
   },
   "outputs": [
    {
     "data": {
      "application/vnd.jupyter.widget-view+json": {
       "model_id": "8052aab05668402cb815ccd07ad2d32c",
       "version_major": 2,
       "version_minor": 0
      },
      "text/plain": [
       "Map:   0%|          | 0/724 [00:00<?, ? examples/s]"
      ]
     },
     "metadata": {},
     "output_type": "display_data"
    },
    {
     "name": "stderr",
     "output_type": "stream",
     "text": [
      "WARNING:absl:Found untraced functions such as serving, encoder_layer_call_fn, encoder_layer_call_and_return_conditional_losses, embeddings_layer_call_fn, embeddings_layer_call_and_return_conditional_losses while saving (showing 5 of 423). These functions will not be directly callable after loading.\n"
     ]
    },
    {
     "name": "stdout",
     "output_type": "stream",
     "text": [
      "INFO:tensorflow:Assets written to: ram://f18de5fc-0d53-4343-aa43-8473e54cfe6d/assets\n"
     ]
    },
    {
     "name": "stderr",
     "output_type": "stream",
     "text": [
      "INFO:tensorflow:Assets written to: ram://f18de5fc-0d53-4343-aa43-8473e54cfe6d/assets\n"
     ]
    },
    {
     "data": {
      "application/vnd.jupyter.widget-view+json": {
       "model_id": "0352880569d04ce0a4224d196771ff8e",
       "version_major": 2,
       "version_minor": 0
      },
      "text/plain": [
       "Map:   0%|          | 0/724 [00:00<?, ? examples/s]"
      ]
     },
     "metadata": {},
     "output_type": "display_data"
    }
   ],
   "source": [
    "srs_2_requirements_hf_encoded = srs_2_requirements_hf.map(preprocess_function, batched = True)\n",
    "srs_2_requirements_hf_predicted = srs_2_requirements_hf_encoded.map(forward_pass_with_label, batched = True, batch_size = 8)"
   ]
  },
  {
   "cell_type": "code",
   "execution_count": 18,
   "id": "8c73dd36-a1fd-4719-a8cd-31b807b5f796",
   "metadata": {
    "tags": []
   },
   "outputs": [],
   "source": [
    "y_true_srs_2 = srs_2_requirements_hf_predicted['label']\n",
    "y_pred_srs_2 = srs_2_requirements_hf_predicted['y_pred']"
   ]
  },
  {
   "cell_type": "code",
   "execution_count": 19,
   "id": "0c7ff55c-e3b0-44bd-9176-87ed724a9e12",
   "metadata": {
    "tags": []
   },
   "outputs": [
    {
     "data": {
      "image/png": "[encoded data removed]",
      "text/plain": [
       "<Figure size 1200x500 with 2 Axes>"
      ]
     },
     "metadata": {},
     "output_type": "display_data"
    }
   ],
   "source": [
    "fig, ax = plt.subplots(figsize = (12, 5))\n",
    "plot_confusion_matrix(y_pred_srs_2, y_true_srs_2, lables, ax)"
   ]
  },
  {
   "cell_type": "code",
   "execution_count": 20,
   "id": "dcec814e-04eb-41ef-bbee-d31ed4ef676b",
   "metadata": {
    "tags": []
   },
   "outputs": [
    {
     "name": "stdout",
     "output_type": "stream",
     "text": [
      "Precision:  0.7940480716427998\n",
      "Recall:  0.9561598951507209\n",
      "Recall:  0.8495549326355876\n"
     ]
    }
   ],
   "source": [
    "evaluate(y_true_srs_2, y_pred_srs_2, average = 'macro')"
   ]
  },
  {
   "cell_type": "code",
   "execution_count": 21,
   "id": "993c8b0d-0677-4d2e-86f5-e5e8547ec58b",
   "metadata": {
    "collapsed": true,
    "jupyter": {
     "outputs_hidden": true
    },
    "tags": []
   },
   "outputs": [
    {
     "name": "stdout",
     "output_type": "stream",
     "text": [
      "ID:  111365\n",
      "True Class:  auxiliary\n",
      "Predicted Class:  requirement\n",
      "Probability:  0.9966920614242554\n",
      "Text:  The primary audience of this SRS document will be the development team employed to implement the specified RMOS.\n",
      "##########\n",
      "ID:  111438\n",
      "True Class:  auxiliary\n",
      "Predicted Class:  requirement\n",
      "Probability:  0.9967929720878601\n",
      "Text:  The payment system should be operable such that it can return information to the RMOS system as to whether payment was successful or failed.\n",
      "##########\n",
      "ID:  111446\n",
      "True Class:  auxiliary\n",
      "Predicted Class:  requirement\n",
      "Probability:  0.9965367317199707\n",
      "Text:  Users will summon their restaurant menu, which is combined with a system/command menu, using an easy touch gesture, a double-tap on the touch surface, and dismiss it with a similar gesture or by tapping a close button GUI element.\n",
      "##########\n",
      "ID:  111447\n",
      "True Class:  auxiliary\n",
      "Predicted Class:  requirement\n",
      "Probability:  0.9963858127593994\n",
      "Text:  The GUI will take a small percentage of the table's screen, so the UI will be clear and uncluttered.\n",
      "##########\n",
      "ID:  111449\n",
      "True Class:  auxiliary\n",
      "Predicted Class:  requirement\n",
      "Probability:  0.996582567691803\n",
      "Text:  This UI will be designed for use with a stylus input into the touch-screen.\n",
      "##########\n",
      "ID:  111450\n",
      "True Class:  auxiliary\n",
      "Predicted Class:  requirement\n",
      "Probability:  0.9511966705322266\n",
      "Text:  Because the number of operations the UI needs to support is relatively limited, there will be no nested menu structure.\n",
      "##########\n",
      "ID:  111451\n",
      "True Class:  auxiliary\n",
      "Predicted Class:  requirement\n",
      "Probability:  0.9977053999900818\n",
      "Text:  The UI shall provide simple graphical interfaces, similar to a map, to allow the user to select tables/customers as the target of operations.\n",
      "##########\n",
      "ID:  111454\n",
      "True Class:  auxiliary\n",
      "Predicted Class:  requirement\n",
      "Probability:  0.996713399887085\n",
      "Text:  The UI will display the list of items in large, easy-to-read text, sorted by time of submission with additional information (such as dietary requirements and the destination table) displayed in tabulated format.\n",
      "##########\n",
      "ID:  111458\n",
      "True Class:  auxiliary\n",
      "Predicted Class:  requirement\n",
      "Probability:  0.9906071424484253\n",
      "Text:  All three devices must be physically robust and immune to liquid damage and stains.\n",
      "##########\n",
      "ID:  111462\n",
      "True Class:  auxiliary\n",
      "Predicted Class:  requirement\n",
      "Probability:  0.9967453479766846\n",
      "Text:  All order and transaction records should be stored on the server, not these computers.\n",
      "##########\n",
      "ID:  111466\n",
      "True Class:  auxiliary\n",
      "Predicted Class:  requirement\n",
      "Probability:  0.9964371919631958\n",
      "Text:  The RMOS will interface with a Database Management System (DBMS) that stores the information necessary for the RMOS to operate.\n",
      "##########\n",
      "ID:  111467\n",
      "True Class:  auxiliary\n",
      "Predicted Class:  requirement\n",
      "Probability:  0.9969927072525024\n",
      "Text:  The DBMS must be able to provide, on request and with low latency, data concerning the restaurant's menu, employees (and their passwords) and available dietary requirements.\n",
      "##########\n",
      "ID:  111469\n",
      "True Class:  auxiliary\n",
      "Predicted Class:  requirement\n",
      "Probability:  0.9966855645179749\n",
      "Text:  This data will include records of all orders and transactions (system states and state changes) executed by the RMOS.\n",
      "##########\n",
      "ID:  111470\n",
      "True Class:  auxiliary\n",
      "Predicted Class:  requirement\n",
      "Probability:  0.9969724416732788\n",
      "Text:  The DBMS must store all data such that it can be used for accounting, as well as accountability.\n",
      "##########\n",
      "ID:  111471\n",
      "True Class:  auxiliary\n",
      "Predicted Class:  requirement\n",
      "Probability:  0.9960743188858032\n",
      "Text:  The RMOS will interface with a Local Area Network (LAN) to maintain communication with all its devices.\n",
      "##########\n",
      "ID:  111472\n",
      "True Class:  auxiliary\n",
      "Predicted Class:  requirement\n",
      "Probability:  0.9913715124130249\n",
      "Text:  It should use a reliable-type IP protocol such as TCP/IP or reliable-UDP/IP for maximum compatibility and stability.\n",
      "##########\n",
      "ID:  111473\n",
      "True Class:  auxiliary\n",
      "Predicted Class:  requirement\n",
      "Probability:  0.9952914714813232\n",
      "Text:  All devices it will interface with should contain standard Ethernet compatible, software accessible LAN cards to maintain communication between the server and the surface computers, tablets, displays and the external payment system.\n",
      "##########\n",
      "ID:  111474\n",
      "True Class:  auxiliary\n",
      "Predicted Class:  requirement\n",
      "Probability:  0.7621694803237915\n",
      "Text:  Devices that are wireless should also use Ethernet compatible cards, using the IEEE 802.11b/g standard and having support for WPA2-PSK encryption.\n",
      "##########\n",
      "ID:  111476\n",
      "True Class:  auxiliary\n",
      "Predicted Class:  requirement\n",
      "Probability:  0.7940025329589844\n",
      "Text:  The memory usage of the RMOS will obviously have to be constrained by the devices it is intended to run on.\n",
      "##########\n",
      "ID:  111483\n",
      "True Class:  auxiliary\n",
      "Predicted Class:  requirement\n",
      "Probability:  0.9969608187675476\n",
      "Text:  The server must be able to operate unattended indefinitely.\n",
      "##########\n",
      "ID:  111485\n",
      "True Class:  auxiliary\n",
      "Predicted Class:  requirement\n",
      "Probability:  0.996852457523346\n",
      "Text:  Backup and recovery should be handled by the DBMS and operating system, or external software running on a timed backup system.\n",
      "##########\n",
      "ID:  111486\n",
      "True Class:  auxiliary\n",
      "Predicted Class:  requirement\n",
      "Probability:  0.9944509863853455\n",
      "Text:  Interaction from the RMOS should not be required.\n",
      "##########\n",
      "ID:  111487\n",
      "True Class:  auxiliary\n",
      "Predicted Class:  requirement\n",
      "Probability:  0.9198734164237976\n",
      "Text:  Since stateful data should not be stored on any of the devices other than the server, keeping a system image on the server for each device may be a sufficient operational method to facilitate restoration should a device become corrupted.\n",
      "##########\n",
      "ID:  111495\n",
      "True Class:  auxiliary\n",
      "Predicted Class:  requirement\n",
      "Probability:  0.9964919686317444\n",
      "Text:  Some customisation of RMOS software elements may be required, including:\n",
      "##########\n",
      "ID:  111500\n",
      "True Class:  auxiliary\n",
      "Predicted Class:  requirement\n",
      "Probability:  0.9721885919570923\n",
      "Text:  The users of the tablets and displays are waiters and chefs respectively and they should be able to use the system and further be able to train others with minimal training themselves.\n",
      "##########\n",
      "ID:  111501\n",
      "True Class:  auxiliary\n",
      "Predicted Class:  requirement\n",
      "Probability:  0.9938470721244812\n",
      "Text:  They must be able to explain all elements of the user interfaces except the server.\n",
      "##########\n",
      "ID:  111503\n",
      "True Class:  auxiliary\n",
      "Predicted Class:  requirement\n",
      "Probability:  0.9245901703834534\n",
      "Text:  This class of user would be expected to have a junior high-school certificate education or equivalent.\n",
      "##########\n",
      "ID:  111507\n",
      "True Class:  auxiliary\n",
      "Predicted Class:  requirement\n",
      "Probability:  0.9910793900489807\n",
      "Text:  The software should not be needlessly complex, but it is still expected not to be entirely 'plug and play'.\n",
      "##########\n",
      "ID:  111509\n",
      "True Class:  auxiliary\n",
      "Predicted Class:  requirement\n",
      "Probability:  0.9959779977798462\n",
      "Text:  The RMOS should be written in an object-oriented language with strong GUI links and a simple, accessible network API.\n",
      "##########\n",
      "ID:  111511\n",
      "True Class:  auxiliary\n",
      "Predicted Class:  requirement\n",
      "Probability:  0.9939046502113342\n",
      "Text:  The system must provide a capacity for parallel operation and system design should not introduce scalability issues with regard to the number of surface computers, tablets or displays connected at any one time.\n",
      "##########\n",
      "ID:  111512\n",
      "True Class:  auxiliary\n",
      "Predicted Class:  requirement\n",
      "Probability:  0.9968720078468323\n",
      "Text:  The end system should also allow for seamless recovery, without data loss, from individual device failure.\n",
      "##########\n",
      "ID:  111513\n",
      "True Class:  auxiliary\n",
      "Predicted Class:  requirement\n",
      "Probability:  0.9969974756240845\n",
      "Text:  There must be a strong audit chain with all system actions logged.\n",
      "##########\n",
      "ID:  111517\n",
      "True Class:  auxiliary\n",
      "Predicted Class:  requirement\n",
      "Probability:  0.9903079867362976\n",
      "Text:  If the system is down, then customers must not notice, or notice that the system recovers quickly (seconds).\n",
      "##########\n",
      "ID:  111518\n",
      "True Class:  auxiliary\n",
      "Predicted Class:  requirement\n",
      "Probability:  0.996037483215332\n",
      "Text:  The system must be reliable enough to run crash and glitch free more or less indefinitely, or facilitate error recovery strong enough such that glitches are never revealed to its end-users.\n",
      "##########\n",
      "ID:  111519\n",
      "True Class:  auxiliary\n",
      "Predicted Class:  requirement\n",
      "Probability:  0.9949609041213989\n",
      "Text:  The SRS assumes that none of the constituent system components will be implemented as embedded applications.\n",
      "##########\n",
      "ID:  111522\n",
      "True Class:  auxiliary\n",
      "Predicted Class:  requirement\n",
      "Probability:  0.9961948394775391\n",
      "Text:  The surface computers employed by the system should facilitate being utilised/left on for extended periods (sufficient for daily use) and that they are programmable in the same fashion as x86 architecture computers.\n",
      "##########\n",
      "ID:  111605\n",
      "True Class:  requirement\n",
      "Predicted Class:  auxiliary\n",
      "Probability:  0.9771069884300232\n",
      "Text:  Y07 A waiter that attempts to log into a second tablet while already logged into\n",
      "##########\n",
      "ID:  111731\n",
      "True Class:  auxiliary\n",
      "Predicted Class:  requirement\n",
      "Probability:  0.7740784287452698\n",
      "Text:  Trigger Exceptional circumstances arise and the supervisor must abort the meal\n",
      "##########\n",
      "ID:  111738\n",
      "True Class:  auxiliary\n",
      "Predicted Class:  requirement\n",
      "Probability:  0.9969542026519775\n",
      "Text:  Trigger Exceptional circumstances arise and the supervisor must abort the account\n",
      "##########\n",
      "ID:  111747\n",
      "True Class:  auxiliary\n",
      "Predicted Class:  requirement\n",
      "Probability:  0.9954898953437805\n",
      "Text:  Trigger Exceptional circumstances arise and the supervisor must refund the payment\n",
      "##########\n",
      "ID:  111849\n",
      "True Class:  auxiliary\n",
      "Predicted Class:  requirement\n",
      "Probability:  0.9946863651275635\n",
      "Text:  An Item that is part of an order may contain a dietary requirement.\n",
      "##########\n",
      "ID:  111857\n",
      "True Class:  auxiliary\n",
      "Predicted Class:  requirement\n",
      "Probability:  0.9963598847389221\n",
      "Text:  An Order will typically be deleted shortly after it has been approved and its Items added to the customer's Meal, tying the Items in the Order to an Account.\n",
      "##########\n",
      "ID:  111864\n",
      "True Class:  auxiliary\n",
      "Predicted Class:  requirement\n",
      "Probability:  0.9937227368354797\n",
      "Text:  This class represents a physical table at which a customer may be seated and its integrated surface computer.\n",
      "##########\n",
      "ID:  111865\n",
      "True Class:  auxiliary\n",
      "Predicted Class:  requirement\n",
      "Probability:  0.9967783093452454\n",
      "Text:  If the represented table is activated, an Account will be associated with the Table.\n",
      "##########\n",
      "ID:  111872\n",
      "True Class:  auxiliary\n",
      "Predicted Class:  requirement\n",
      "Probability:  0.9848554730415344\n",
      "Text:  It may also be associated with any number of Alerts that can be sent to it by the system.\n",
      "##########\n",
      "ID:  111968\n",
      "True Class:  auxiliary\n",
      "Predicted Class:  requirement\n",
      "Probability:  0.9940046668052673\n",
      "Text:  Because there is not an actual client for this assignment, the elicitation phase will consist of the team brainstorming possible functionality from the “client’s” point of view.\n",
      "##########\n",
      "ID:  111969\n",
      "True Class:  auxiliary\n",
      "Predicted Class:  requirement\n",
      "Probability:  0.9965336322784424\n",
      "Text:  The elicited requirements will be based primarily on the research previously conducted into existing computerised restaurant systems.\n",
      "##########\n",
      "ID:  111970\n",
      "True Class:  auxiliary\n",
      "Predicted Class:  requirement\n",
      "Probability:  0.9965521097183228\n",
      "Text:  During the analysis phase, team members will take the derived requirements and transform them into a constant, thorough and complete set of requirements.\n",
      "##########\n",
      "ID:  111973\n",
      "True Class:  auxiliary\n",
      "Predicted Class:  requirement\n",
      "Probability:  0.9950089454650879\n",
      "Text:  Details of the specification will be finalised and all requirements and diagrams will be collated and organised into a single coherent Software Requirements Specification document.\n",
      "##########\n"
     ]
    }
   ],
   "source": [
    "idx = np.where(np.array(y_true_srs_2) != np.array(y_pred_srs_2))[0]\n",
    "filtered_dataset = srs_2_requirements_hf_predicted.select(idx)\n",
    "for idx, label, y_pred, y_proba, text in zip(filtered_dataset['id'], filtered_dataset['label'], filtered_dataset['y_pred'], filtered_dataset['y_probas'], filtered_dataset['text']):\n",
    "    print('ID: ', idx)\n",
    "    print('True Class: ', label)\n",
    "    print('Predicted Class: ', y_pred)\n",
    "    print('Probability: ', y_proba)\n",
    "    print('Text: ', text)\n",
    "    print('#' * 10)"
   ]
  },
  {
   "cell_type": "markdown",
   "id": "21642121-aeaa-4d4b-9105-e7386684dc46",
   "metadata": {},
   "source": [
    "# Loading SRS 3: Blineded for Peer Review"
   ]
  },
  {
   "cell_type": "code",
   "execution_count": 22,
   "id": "6e6fe02e-a813-4956-bd76-8751ca4c26da",
   "metadata": {
    "tags": []
   },
   "outputs": [],
   "source": [
    "srs_3_path = \"./three_real_world_srs/<blinded>/<blinded>_labeled.jsonl\"\n",
    "srs_3_requirements = load_jsonl(srs_3_path)\n",
    "srs_3_requirements_hf = datasets.Dataset.from_list(srs_3_requirements)"
   ]
  },
  {
   "cell_type": "code",
   "execution_count": 23,
   "id": "6ee22d3d-d048-40fa-96b0-cf673054a8b5",
   "metadata": {
    "tags": []
   },
   "outputs": [
    {
     "data": {
      "application/vnd.jupyter.widget-view+json": {
       "model_id": "432e9a321eb345f2a082cf7659190bb5",
       "version_major": 2,
       "version_minor": 0
      },
      "text/plain": [
       "Map:   0%|          | 0/296 [00:00<?, ? examples/s]"
      ]
     },
     "metadata": {},
     "output_type": "display_data"
    },
    {
     "name": "stderr",
     "output_type": "stream",
     "text": [
      "WARNING:absl:Found untraced functions such as serving, encoder_layer_call_fn, encoder_layer_call_and_return_conditional_losses, embeddings_layer_call_fn, embeddings_layer_call_and_return_conditional_losses while saving (showing 5 of 423). These functions will not be directly callable after loading.\n"
     ]
    },
    {
     "name": "stdout",
     "output_type": "stream",
     "text": [
      "INFO:tensorflow:Assets written to: ram://be98e299-7a91-4faf-b7dc-1eff1450da54/assets\n"
     ]
    },
    {
     "name": "stderr",
     "output_type": "stream",
     "text": [
      "INFO:tensorflow:Assets written to: ram://be98e299-7a91-4faf-b7dc-1eff1450da54/assets\n"
     ]
    },
    {
     "data": {
      "application/vnd.jupyter.widget-view+json": {
       "model_id": "eb316487577e40c4a25307dd4a7537c9",
       "version_major": 2,
       "version_minor": 0
      },
      "text/plain": [
       "Map:   0%|          | 0/296 [00:00<?, ? examples/s]"
      ]
     },
     "metadata": {},
     "output_type": "display_data"
    }
   ],
   "source": [
    "srs_3_requirements_hf_encoded = srs_3_requirements_hf.map(preprocess_function, batched = True)\n",
    "srs_3_requirements_hf_predicted = srs_3_requirements_hf_encoded.map(forward_pass_with_label, batched = True, batch_size = 8)"
   ]
  },
  {
   "cell_type": "code",
   "execution_count": 24,
   "id": "fccbb0fa-1e6b-4b97-9c9e-7ed3d5f89aed",
   "metadata": {
    "tags": []
   },
   "outputs": [],
   "source": [
    "y_true_srs_3 = srs_3_requirements_hf_predicted['label']\n",
    "y_pred_srs_3 = srs_3_requirements_hf_predicted['y_pred']"
   ]
  },
  {
   "cell_type": "code",
   "execution_count": 25,
   "id": "2f8f5b6c-43b1-4487-ab71-072a7a806320",
   "metadata": {
    "tags": []
   },
   "outputs": [
    {
     "data": {
      "image/png": "[encoded data removed]",
      "text/plain": [
       "<Figure size 1200x500 with 2 Axes>"
      ]
     },
     "metadata": {},
     "output_type": "display_data"
    }
   ],
   "source": [
    "fig, ax = plt.subplots(figsize = (12, 5))\n",
    "plot_confusion_matrix(y_pred_srs_3, y_true_srs_3, lables, ax)"
   ]
  },
  {
   "cell_type": "code",
   "execution_count": 26,
   "id": "a45fbfa3-a2ec-4531-bb5e-ca9a1239b802",
   "metadata": {
    "tags": []
   },
   "outputs": [
    {
     "name": "stdout",
     "output_type": "stream",
     "text": [
      "Precision:  0.9648630444544231\n",
      "Recall:  0.9533114395183361\n",
      "Recall:  0.9589880012192756\n"
     ]
    }
   ],
   "source": [
    "evaluate(y_true_srs_3, y_pred_srs_3, average = 'macro')"
   ]
  },
  {
   "cell_type": "code",
   "execution_count": 27,
   "id": "ccb4084d-bde6-443b-9bb4-d92a41200541",
   "metadata": {
    "tags": []
   },
   "outputs": [
    {
     "name": "stdout",
     "output_type": "stream",
     "text": [
      "ID:  113219\n",
      "True Class:  auxiliary\n",
      "Predicted Class:  requirement\n",
      "Probability:  0.9967143535614014\n",
      "Text:  The specialists and managers required for this transformation process must be trained early.\n",
      "##########\n",
      "ID:  113312\n",
      "True Class:  requirement\n",
      "Predicted Class:  auxiliary\n",
      "Probability:  0.736375093460083\n",
      "Text:  Basic The Python programming environment shall run in a safe manner, i.e., users shall not be able to execute malicious code. DONE\n",
      "##########\n",
      "ID:  113331\n",
      "True Class:  requirement\n",
      "Predicted Class:  auxiliary\n",
      "Probability:  0.9978278279304504\n",
      "Text:  Basic Functional Integrating the English language beside German only for the software interface is a nice functionality to have.     DONE\n",
      "##########\n",
      "ID:  113335\n",
      "True Class:  requirement\n",
      "Predicted Class:  auxiliary\n",
      "Probability:  0.9777881503105164\n",
      "Text:  The following types of questions must be supported by the test module of the learning platform: Changing the order of the question types, Standard question types, Calculated, calculated multi-choice, calculated simple, Drag and drop into text, Drag and drop markers, Drag and drop onto image, Description, Essay, Matching, Embedded Answers (Cloze Test / Gap Fill), Multiple Choice, Short Answer, Numerical and Random short-answer matching.       DONE\n",
      "##########\n",
      "ID:  113397\n",
      "True Class:  auxiliary\n",
      "Predicted Class:  requirement\n",
      "Probability:  0.9342089891433716\n",
      "Text:  For the search functionality to work, a PDF file with (almost) the same name as the Moodle book must be present in the course, with each PDF page aligning one-to-one with the book pages.\n",
      "##########\n"
     ]
    }
   ],
   "source": [
    "idx = np.where(np.array(y_true_srs_3) != np.array(y_pred_srs_3))[0]\n",
    "filtered_dataset = srs_3_requirements_hf_predicted.select(idx)\n",
    "for idx, label, y_pred, y_proba, text in zip(filtered_dataset['id'], filtered_dataset['label'], filtered_dataset['y_pred'], filtered_dataset['y_probas'], filtered_dataset['text']):\n",
    "    print('ID: ', idx)\n",
    "    print('True Class: ', label)\n",
    "    print('Predicted Class: ', y_pred)\n",
    "    print('Probability: ', y_proba)\n",
    "    print('Text: ', text)\n",
    "    print('#' * 10)"
   ]
  }
 ],
 "metadata": {
  "kernelspec": {
   "display_name": "metal-engine",
   "language": "python",
   "name": "metal-engine"
  },
  "language_info": {
   "codemirror_mode": {
    "name": "ipython",
    "version": 3
   },
   "file_extension": ".py",
   "mimetype": "text/x-python",
   "name": "python",
   "nbconvert_exporter": "python",
   "pygments_lexer": "ipython3",
   "version": "3.9.16"
  }
 },
 "nbformat": 4,
 "nbformat_minor": 5
}

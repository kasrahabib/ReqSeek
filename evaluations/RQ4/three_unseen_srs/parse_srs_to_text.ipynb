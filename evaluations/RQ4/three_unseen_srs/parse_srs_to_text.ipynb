{
 "cells": [
  {
   "cell_type": "code",
   "execution_count": 1,
   "id": "70563164-a4df-4929-a5a4-808bcb438d95",
   "metadata": {
    "tags": []
   },
   "outputs": [],
   "source": [
    "import re\n",
    "import nest_asyncio\n",
    "from llama_parse import LlamaParse"
   ]
  },
  {
   "cell_type": "code",
   "execution_count": 2,
   "id": "910d98ae-e5af-4f87-8a33-fbadc12526c7",
   "metadata": {
    "tags": []
   },
   "outputs": [],
   "source": [
    "LLAMA_CLOUD_API_KEY =''"
   ]
  },
  {
   "cell_type": "code",
   "execution_count": 3,
   "id": "12fb79ef-144e-4562-b70b-ff2c6ae3dc3c",
   "metadata": {
    "tags": []
   },
   "outputs": [],
   "source": [
    "nest_asyncio.apply()\n",
    "load_dotenv()\n",
    "\n",
    "parser = LlamaParse(\n",
    "    api_key = LLAMA_CLOUD_API_KEY,\n",
    "    result_type = \"markdown\",  \n",
    "    num_workers = 4,  \n",
    "    verbose = True,\n",
    "    language = \"en\"\n",
    ")"
   ]
  },
  {
   "cell_type": "code",
   "execution_count": 4,
   "id": "bbae8cdd-d489-49c6-996b-7c34e8678547",
   "metadata": {
    "tags": []
   },
   "outputs": [
    {
     "name": "stdout",
     "output_type": "stream",
     "text": [
      "Started parsing the file under job_id 7ee81f1d-7b02-4c74-8aa9-0852627c1438\n",
      "...."
     ]
    }
   ],
   "source": [
    "# Parsing SRS 1\n",
    "\n",
    "srs_1_path = \"./srs_1.pdf\"\n",
    "async_srs_1_document = await parser.aload_data(srs_1_path)"
   ]
  },
  {
   "cell_type": "code",
   "execution_count": 5,
   "id": "6acc543f-3a0e-4267-9b4c-474dba0333fc",
   "metadata": {
    "tags": []
   },
   "outputs": [
    {
     "name": "stdout",
     "output_type": "stream",
     "text": [
      "Started parsing the file under job_id 8cbf39a7-920c-4234-b513-b8d7ef55b46c\n",
      ".............."
     ]
    }
   ],
   "source": [
    "# Parsing SRS \n",
    "\n",
    "srs_2_path = \"./srs_2.pdf\"\n",
    "async_srs_2_document = await parser.aload_data(srs_2_path)"
   ]
  },
  {
   "cell_type": "code",
   "execution_count": 28,
   "id": "78787d38-525f-4063-9d37-8c78fe2d071b",
   "metadata": {
    "tags": []
   },
   "outputs": [
    {
     "name": "stdout",
     "output_type": "stream",
     "text": [
      "Started parsing the file under job_id 9b06dfaa-a23e-4951-b24d-4d0bdbd69440\n",
      "."
     ]
    }
   ],
   "source": [
    "srs_3_path = \"./srs_3.pdf\"\n",
    "async_srs_3_document = await parser.aload_data(srs_3_path)"
   ]
  },
  {
   "cell_type": "code",
   "execution_count": 8,
   "id": "f5734f28-51b7-4b21-b452-ba7c588ef000",
   "metadata": {
    "tags": []
   },
   "outputs": [],
   "source": [
    "def clean_extracted_text_with_newlines(text):\n",
    "    text = re.sub(r'(?<=\\.)\\s+', '\\n', text)\n",
    "    text = re.sub(r' {2,}', '\\n', text)\n",
    "    text = re.sub(r'^segment_re_text', '\\n', text, flags = re.MULTILINE)\n",
    "    text = re.sub(r'^#+\\s*.*$', '\\n', text, flags = re.MULTILINE)\n",
    "    text = re.sub(r'^\\|[-\\s|]+\\|$', '\\n', text, flags = re.MULTILINE)\n",
    "    text = text.replace(\"|\", \" \")\n",
    "    text = re.sub(r'\\n+', '\\n', text)\n",
    "    text = re.sub(r'^\\s+|\\s+$', '', text, flags = re.M)\n",
    "    text = text.strip(' ')\n",
    "    text = [sents.split(' ') for sents in text.split('\\n')]\n",
    "    text = [tokens for tokens in text if len(tokens) > 2]\n",
    "    text = [' '.join(tokens) for tokens in text]\n",
    "    return text "
   ]
  },
  {
   "cell_type": "code",
   "execution_count": 13,
   "id": "0230fbb9-cd5c-469a-876e-3997af23bd2e",
   "metadata": {
    "tags": []
   },
   "outputs": [],
   "source": [
    "def parse_pages_to_sentence(pages):\n",
    "    srs_document = []\n",
    "    for page in pages:\n",
    "        srs_document.append(clean_extracted_text_with_newlines(page.text))\n",
    "    return [sentence for page in srs_document for sentence in page]"
   ]
  },
  {
   "cell_type": "code",
   "execution_count": 18,
   "id": "d1b5eab6-207f-43c6-b207-8f536cd307a0",
   "metadata": {
    "tags": []
   },
   "outputs": [],
   "source": [
    "srs_1 = parse_pages_to_sentence(async_srs_1_document)"
   ]
  },
  {
   "cell_type": "code",
   "execution_count": 19,
   "id": "8c0e1338-3bd2-4080-bb7e-eae4817a7e76",
   "metadata": {
    "tags": []
   },
   "outputs": [],
   "source": [
    "import json\n",
    "\n",
    "default_label = [\"non_requirement_text\"]\n",
    "\n",
    "with open(\"./srs_1.jsonl\", \"w\") as f:\n",
    "    for line in srs_1:\n",
    "        record = {\"text\": line, \"label\": default_label}\n",
    "        json_line = json.dumps(record)\n",
    "        f.write(json_line + \"\\n\")"
   ]
  },
  {
   "cell_type": "code",
   "execution_count": 22,
   "id": "9fcf0fb3-af1a-4bec-9033-33d1d312faa9",
   "metadata": {
    "tags": []
   },
   "outputs": [],
   "source": [
    "srs_2 = parse_pages_to_sentence(async_srs_2_document)"
   ]
  },
  {
   "cell_type": "code",
   "execution_count": 23,
   "id": "5915fd75-098d-46d3-998a-6751b8046e4c",
   "metadata": {
    "tags": []
   },
   "outputs": [],
   "source": [
    "with open(\"./srs_2.jsonl\", \"w\") as f:\n",
    "    for line in srs_2:\n",
    "        record = {\"text\": line, \"label\": default_label}\n",
    "        json_line = json.dumps(record)\n",
    "        f.write(json_line + \"\\n\")"
   ]
  },
  {
   "cell_type": "code",
   "execution_count": 29,
   "id": "fd360d53-1f54-43a2-8f1e-33738ebfa771",
   "metadata": {
    "tags": []
   },
   "outputs": [],
   "source": [
    "srs_3 = parse_pages_to_sentence(async_srs_3_document)"
   ]
  },
  {
   "cell_type": "code",
   "execution_count": 30,
   "id": "b69b3a42-0478-4415-a776-77a28a1d1926",
   "metadata": {},
   "outputs": [],
   "source": [
    "with open(\"./srs_3.jsonl\", \"w\") as f:\n",
    "    for line in srs_3:\n",
    "        record = {\"text\": line, \"label\": default_label}\n",
    "        json_line = json.dumps(record)\n",
    "        f.write(json_line + \"\\n\")"
   ]
  },
  {
   "cell_type": "code",
   "execution_count": null,
   "id": "7cc345e6-d4a9-41e3-b04c-387b6292a6b5",
   "metadata": {},
   "outputs": [],
   "source": []
  }
 ],
 "metadata": {
  "kernelspec": {
   "display_name": "metal-engine",
   "language": "python",
   "name": "metal-engine"
  },
  "language_info": {
   "codemirror_mode": {
    "name": "ipython",
    "version": 3
   },
   "file_extension": ".py",
   "mimetype": "text/x-python",
   "name": "python",
   "nbconvert_exporter": "python",
   "pygments_lexer": "ipython3",
   "version": "3.9.16"
  }
 },
 "nbformat": 4,
 "nbformat_minor": 5
}

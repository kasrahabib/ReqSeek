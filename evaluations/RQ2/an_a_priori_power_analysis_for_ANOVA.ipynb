{
 "cells": [
  {
   "cell_type": "code",
   "execution_count": 1,
   "id": "e4bc69b3-e1db-40c7-b0bf-0d75eceb8ce7",
   "metadata": {
    "tags": []
   },
   "outputs": [],
   "source": [
    "import numpy as np"
   ]
  },
  {
   "cell_type": "code",
   "execution_count": 2,
   "id": "b9cd2226-0d4e-4d14-9007-1526e78beca1",
   "metadata": {
    "tags": []
   },
   "outputs": [
    {
     "data": {
      "text/plain": [
       "42.0"
      ]
     },
     "execution_count": 2,
     "metadata": {},
     "output_type": "execute_result"
    }
   ],
   "source": [
    "from statsmodels.stats.power import FTestAnovaPower\n",
    "\n",
    "# Parameters for power analysis\n",
    "alpha = 0.05\n",
    "power = 0.8\n",
    "effect_size = 0.5\n",
    "\n",
    "k_classes = 3      # Number of label categories (e.g., requirement/system_related_auxiliary/contextual_auxiliary)\n",
    "k_groups = k_classes * (k_classes - 1) // 2 \n",
    "k_groups\n",
    "\n",
    "analysis = FTestAnovaPower()\n",
    "sample_size = analysis.solve_power(effect_size = effect_size, alpha = alpha, power = power, k_groups = k_groups)\n",
    "np.ceil(sample_size)"
   ]
  }
 ],
 "metadata": {
  "kernelspec": {
   "display_name": "metal-engine",
   "language": "python",
   "name": "metal-engine"
  },
  "language_info": {
   "codemirror_mode": {
    "name": "ipython",
    "version": 3
   },
   "file_extension": ".py",
   "mimetype": "text/x-python",
   "name": "python",
   "nbconvert_exporter": "python",
   "pygments_lexer": "ipython3",
   "version": "3.9.16"
  }
 },
 "nbformat": 4,
 "nbformat_minor": 5
}

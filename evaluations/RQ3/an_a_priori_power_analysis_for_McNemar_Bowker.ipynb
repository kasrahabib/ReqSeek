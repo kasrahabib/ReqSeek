{
 "cells": [
  {
   "cell_type": "code",
   "execution_count": 1,
   "id": "63eb570f-fd8b-4c4a-a837-d9d46b3145a0",
   "metadata": {
    "tags": []
   },
   "outputs": [],
   "source": [
    "import numpy as np"
   ]
  },
  {
   "cell_type": "code",
   "execution_count": 2,
   "id": "a4b48589-5aa1-49c1-b60e-b9c33f5a692d",
   "metadata": {
    "tags": []
   },
   "outputs": [
    {
     "data": {
      "text/plain": [
       "42.0"
      ]
     },
     "execution_count": 2,
     "metadata": {},
     "output_type": "execute_result"
    }
   ],
   "source": [
    "from statsmodels.stats.power import FTestAnovaPower\n",
    "\n",
    "# Parameters for power analysis\n",
    "alpha = 0.05\n",
    "power = 0.8\n",
    "effect_size = 0.5\n",
    "\n",
    "k_classes = 3      # Number of label categories (e.g., requirement/system_related_auxiliary/contextual_auxiliary)\n",
    "k_groups = k_classes * (k_classes - 1) // 2 \n",
    "k_groups\n",
    "\n",
    "analysis = FTestAnovaPower()\n",
    "sample_size = analysis.solve_power(effect_size = effect_size, alpha = alpha, power = power, k_groups = k_groups)\n",
    "np.ceil(sample_size)"
   ]
  },
  {
   "cell_type": "markdown",
   "id": "e36d9ae7-3001-4b74-aff3-a116d454a527",
   "metadata": {},
   "source": [
    "Following Dyba et al. [1], we based our McNemar–Bowker power analysis on its parametric analogue, ANOVA.\n",
    "\n",
    "\n",
    "Reference:<br>\n",
    "[1] T. Dyba, V. B. Kampenes, and D. I. K. Sjoberg, “A systematic review of statistical power in software engineering experiments,” Information and Software Technology, vol. 48, no. 8, pp. 745–755, Aug. 2006."
   ]
  },
  {
   "cell_type": "code",
   "execution_count": null,
   "id": "60c78d04-17c3-4586-a537-4a1b3b05917f",
   "metadata": {},
   "outputs": [],
   "source": []
  }
 ],
 "metadata": {
  "kernelspec": {
   "display_name": "metal-engine",
   "language": "python",
   "name": "metal-engine"
  },
  "language_info": {
   "codemirror_mode": {
    "name": "ipython",
    "version": 3
   },
   "file_extension": ".py",
   "mimetype": "text/x-python",
   "name": "python",
   "nbconvert_exporter": "python",
   "pygments_lexer": "ipython3",
   "version": "3.9.16"
  }
 },
 "nbformat": 4,
 "nbformat_minor": 5
}
